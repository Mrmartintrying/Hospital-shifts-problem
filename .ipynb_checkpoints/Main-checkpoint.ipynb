{
 "cells": [
  {
   "cell_type": "code",
   "execution_count": 24,
   "id": "95e9850c",
   "metadata": {},
   "outputs": [],
   "source": [
    "import gspread\n",
    "import time\n",
    "from oauth2client.service_account import ServiceAccountCredentials\n",
    "from pprint import pprint\n",
    "from calendar import monthrange\n",
    "import datetime"
   ]
  },
  {
   "cell_type": "code",
   "execution_count": 25,
   "id": "1329530d-994a-4221-a976-84a178e90f8f",
   "metadata": {},
   "outputs": [],
   "source": [
    "#Authentification - Getting values from each tab on Google Sheets\n",
    "scope = [\"https://spreadsheets.google.com/feeds\",'https://www.googleapis.com/auth/spreadsheets',\"https://www.googleapis.com/auth/drive.file\",\"https://www.googleapis.com/auth/drive\"]\n",
    "\n",
    "credentials = ServiceAccountCredentials.from_json_keyfile_name(\"credentials.json\", scope)\n",
    "client = gspread.authorize(credentials)\n",
    "\n",
    "sheet_tarih = client.open(\"Shift_optimization\").worksheet('1. Tarih')\n",
    "sheet_takvim_input = client.open(\"Shift_optimization\").worksheet('2. Takvim')\n",
    "sheet_birim_dagilimi = client.open(\"Shift_optimization\").worksheet('3. Birim dagilimi')\n",
    "sheet_takvim_output = client.open(\"Shift_optimization\").worksheet('4. Takvim output')\n",
    "\n",
    "#sheet_tarih_data = sheet_tarih.get_all_records()\n",
    "#sheet_takvim_input_data = sheet_takvim_input.get_all_records()\n",
    "#sheet_birim_dagilimi_data = sheet_birim_dagilimi.get_all_records()\n",
    "#sheet_takvim_output_data = sheet_takvim_output.get_all_records()\n",
    "\n",
    "nobetci_sayisi = int(sheet_birim_dagilimi.cell(1,2).value)  \n"
   ]
  },
  {
   "cell_type": "code",
   "execution_count": 26,
   "id": "f88013ae",
   "metadata": {},
   "outputs": [],
   "source": [
    "class doctor(object):\n",
    "    name = \"\"\n",
    "    rank = 0\n",
    "    adjusted_rank = 0\n",
    "    shift = False\n",
    "    nb_of_shifts = 0\n",
    "    weekend = False\n",
    "    nb_of_weekends = 0\n",
    "    days_off = [0, 0, 0, 0, 0, 0, 0, 0, 0, 0, 0, 0, 0, 0, 0, 0, 0, 0, 0, 0, 0, 0, 0, 0, 0, 0, 0, 0, 0, 0, 0]\n",
    "    nb_days_off = 0\n",
    "    #inme calendar eklenicek\n",
    "    manual_shifts = [0, 0, 0, 0, 0, 0, 0, 0, 0, 0, 0, 0, 0, 0, 0, 0, 0, 0, 0, 0, 0, 0, 0, 0, 0, 0, 0, 0, 0, 0, 0]\n",
    "    wanted_days = [0, 0, 0, 0, 0, 0, 0, 0, 0, 0, 0, 0, 0, 0, 0, 0, 0, 0, 0, 0, 0, 0, 0, 0, 0, 0, 0, 0, 0, 0, 0]\n",
    "    unwanted_days = [0, 0, 0, 0, 0, 0, 0, 0, 0, 0, 0, 0, 0, 0, 0, 0, 0, 0, 0, 0, 0, 0, 0, 0, 0, 0, 0, 0, 0, 0, 0]\n",
    "    shift_calendar = [0, 0, 0, 0, 0, 0, 0, 0, 0, 0, 0, 0, 0, 0, 0, 0, 0, 0, 0, 0, 0, 0, 0, 0, 0, 0, 0, 0, 0, 0, 0]\n",
    "    \n",
    "    # The class \"constructor\" - It's actually an initializer \n",
    "    def __init__(self, name, rank, adjusted_rank, shift, nb_of_shifts, weekend, nb_of_weekends, days_off, nb_days_off, manual_shifts, wanted_days, unwanted_days, shift_calendar):\n",
    "        self.name = name\n",
    "        self.rank = rank\n",
    "        self.adjusted_rank = adjusted_rank\n",
    "        self.shift = shift\n",
    "        self.nb_of_shifts = nb_of_shifts\n",
    "        self.weekend = weekend\n",
    "        self.nb_of_weekends = nb_of_weekends\n",
    "        self.days_off = days_off\n",
    "        self.nb_days_off = nb_days_off\n",
    "        self.manual_shifts = manual_shifts\n",
    "        self.wanted_days = wanted_days \n",
    "        self.unwanted_days = unwanted_days\n",
    "        self.shift_calendar = shift_calendar\n",
    "        "
   ]
  },
  {
   "cell_type": "code",
   "execution_count": 27,
   "id": "66b60a1a",
   "metadata": {},
   "outputs": [],
   "source": [
    "class Month:\n",
    "    def __init__(self, days=31, weekend=[0]*31, special_shift=[0]*31, doctor_shift=[\"\"]*31):\n",
    "        self.days = days\n",
    "        self.weekend = weekend\n",
    "        self.special_shift = special_shift\n",
    "        self.doctor_shift=doctor_shift"
   ]
  },
  {
   "cell_type": "code",
   "execution_count": 28,
   "id": "0ae58595",
   "metadata": {},
   "outputs": [],
   "source": [
    "def GetNurseInfo(nobetci_sayisi, doctor_list):\n",
    "    \n",
    "    num_days = int(sheet_tarih.cell(9,2).value)+int(sheet_tarih.cell(10,2).value)\n",
    "    number_of_weekends = int(sheet_tarih.cell(10,2).value)\n",
    "    print(\"Number of days : \" + str(num_days))\n",
    "    total_rank = 0\n",
    "    total_weekend_rank = 0\n",
    "    col = []\n",
    "    \n",
    "    name = \"\"\n",
    "    rank = 0\n",
    "    adjusted_rank = 0\n",
    "    weekend_rank = []\n",
    "    shift = False\n",
    "    nb_of_shifts = 0\n",
    "    weekend = False\n",
    "    nb_of_weekends = 0\n",
    "    nb_days_off = 0\n",
    "    \n",
    "    num_shifts = 1 #number of shifts per day\n",
    "    total_shift_rounded = 0\n",
    "    total_weekends_rounded = 0\n",
    "    \n",
    "    for n in range(nobetci_sayisi):\n",
    "        days_off = []\n",
    "        manual_shifts = []\n",
    "        wanted_days = []\n",
    "        unwanted_days = []\n",
    "        shift_calendar = [0, 0, 0, 0, 0, 0, 0, 0, 0, 0, 0, 0, 0, 0, 0, 0, 0, 0, 0, 0, 0, 0, 0, 0, 0, 0, 0, 0, 0, 0, 0]\n",
    "        col.append(sheet_takvim_input.col_values(n+4))\n",
    "        name = col[n][1]\n",
    "        rank = col[n][2]\n",
    "        shift = col[n][3]\n",
    "        weekend =col[n][4]\n",
    "        nb_days_off = col[n][37]\n",
    "        adjusted_rank = int(rank)*(num_days-int(nb_days_off))/num_days\n",
    "       \n",
    "        if shift == \"Evet\":\n",
    "            shift = True\n",
    "        else:\n",
    "            shift = False\n",
    "            adjusted_rank = 0\n",
    "               \n",
    "        if weekend == \"Evet\":\n",
    "            weekend = True\n",
    "            weekend_rank.append(adjusted_rank)\n",
    "        else:\n",
    "            weekend = False\n",
    "            weekend_rank.append(0)\n",
    "                        \n",
    "        for l in range(num_days):\n",
    "            if col[n][5+l] == \"Izinli\":\n",
    "                days_off.append(1)\n",
    "                manual_shifts.append(0)\n",
    "                wanted_days.append(0)\n",
    "                unwanted_days.append(0)\n",
    "            elif col[n][5+l] == \"Nöbet\":\n",
    "                days_off.append(0)\n",
    "                manual_shifts.append(1)\n",
    "                wanted_days.append(0)\n",
    "                unwanted_days.append(0)\n",
    "            elif col[n][5+l] == \"Tercih\":\n",
    "                days_off.append(0)\n",
    "                manual_shifts.append(0)\n",
    "                wanted_days.append(1)\n",
    "                unwanted_days.append(0)\n",
    "            elif col[n][5+l] == \"Istemiyor\":\n",
    "                days_off.append(0)\n",
    "                manual_shifts.append(0)\n",
    "                wanted_days.append(0)\n",
    "                unwanted_days.append(1)\n",
    "            elif col[n][5+l] == \"-\":\n",
    "                days_off.append(0)\n",
    "                manual_shifts.append(0)\n",
    "                wanted_days.append(0)\n",
    "                unwanted_days.append(0)\n",
    " \n",
    "        doctor_list.append(doctor(name, rank, adjusted_rank, shift, nb_of_shifts, weekend, nb_of_weekends, days_off, nb_days_off, manual_shifts, wanted_days, unwanted_days, shift_calendar))\n",
    "  \n",
    "    for v in range(nobetci_sayisi):\n",
    "        total_rank = total_rank + doctor_list[v].adjusted_rank\n",
    "        total_weekend_rank = total_weekend_rank + weekend_rank[v]\n",
    "        \n",
    "    total_rank = round(total_rank)\n",
    "    \n",
    "    number_of_credits = int(sheet_tarih.cell(14,3).value)\n",
    "    \n",
    "    for n in range(nobetci_sayisi):\n",
    "        doctor_list[n].nb_of_shifts = round((num_shifts*num_days/total_rank)*doctor_list[n].adjusted_rank)        \n",
    "        total_shift_rounded = total_shift_rounded + doctor_list[n].nb_of_shifts\n",
    "        \n",
    "        doctor_list[n].nb_of_weekends = round((num_shifts*number_of_weekends/total_weekend_rank)*weekend_rank[n])        \n",
    "        total_weekends_rounded = total_weekends_rounded + doctor_list[n].nb_of_weekends\n",
    "\n",
    "    \n",
    "    shift_difference = num_shifts*num_days - total_shift_rounded\n",
    "    weekend_difference = num_shifts*number_of_weekends - total_weekends_rounded\n",
    "    \n",
    "    #print(\"Total shifts rounded : \" + str(total_shift_rounded))\n",
    "    #print(\"Total weekends rounded : \" + str(total_weekends_rounded))\n",
    "    \n",
    "    #Calculate shifts for each doctor\n",
    "    \n",
    "    if shift_difference > 0:\n",
    "        #print(\"Shift difference positive : \" + str(shift_difference))\n",
    "        distribution_counter = shift_difference\n",
    "        #print(\"Distribution counter = \" + str(distribution_counter))\n",
    "        j = 1\n",
    "        while distribution_counter > 0:\n",
    "            #print(\"Actual shifts for doctor\" + str(nobetci_sayisi) +\" : \" + str(doctor_list[nobetci_sayisi-j].nb_of_shifts))\n",
    "            #print(\"Looking at Doctor \" + str(nobetci_sayisi-j+1))\n",
    "            doctor_list[nobetci_sayisi-j].nb_of_shifts = doctor_list[nobetci_sayisi-j].nb_of_shifts + 1\n",
    "            #print(\"New shift number for doctor \" + str(nobetci_sayisi-j+1) + \" : \" + str(doctor_list[nobetci_sayisi-j].nb_of_shifts))\n",
    "            distribution_counter = distribution_counter - 1\n",
    "            j = j+1    \n",
    "    \n",
    "    elif shift_difference < 0:\n",
    "        #print(\"Shift difference negative : \" + str(shift_difference))\n",
    "        distribution_counter = shift_difference\n",
    "        #print(\"Distribution counter = \" + str(distribution_counter))\n",
    "        k = 0\n",
    "        while distribution_counter < 0:\n",
    "            #print(\"Actual shifts for doctor\" + str(k+1) +\" : \" + str(doctor_list[k].nb_of_shifts))\n",
    "            if doctor_list[k].nb_of_shifts > 0: \n",
    "                #print(\"Looking at Doctor \" + str(k+1))\n",
    "                doctor_list[k].nb_of_shifts = doctor_list[k].nb_of_shifts - 1\n",
    "                #print(\"New shift number for doctor \" + str(k+1) + \" : \" + str(doctor_list[k].nb_of_shifts))\n",
    "                distribution_counter = distribution_counter + 1\n",
    "            k = k+1\n",
    "            \n",
    "    #Calculate weekends for each doctor\n",
    "    \n",
    "    if weekend_difference > 0:\n",
    "        #print(\"Weekend difference positive : \" + str(weekend_difference))\n",
    "        distribution_counter = weekend_difference\n",
    "        #print(\"Distribution counter = \" + str(distribution_counter))\n",
    "        j = 1\n",
    "        while distribution_counter > 0:\n",
    "            #print(\"Actual shifts for doctor\" + str(nobetci_sayisi) +\" : \" + str(doctor_list[nobetci_sayisi-j].nb_of_weekends))\n",
    "            #print(\"Looking at Doctor \" + str(nobetci_sayisi-j+1))\n",
    "            doctor_list[nobetci_sayisi-j].nb_of_weekends = doctor_list[nobetci_sayisi-j].nb_of_weekends + 1\n",
    "            #print(\"New shift number for doctor \" + str(nobetci_sayisi-j+1) + \" : \" + str(doctor_list[nobetci_sayisi-j].nb_of_weekends))\n",
    "            distribution_counter = distribution_counter - 1\n",
    "            j = j+1    \n",
    "    \n",
    "    elif weekend_difference < 0:\n",
    "        #print(\"Weekend difference negative : \" + str(weekend_difference))\n",
    "        distribution_counter = weekend_difference\n",
    "        #print(\"Distribution counter = \" + str(distribution_counter))\n",
    "        k = 0\n",
    "        while distribution_counter < 0:\n",
    "            #print(\"Actual shifts for doctor\" + str(k+1) +\" : \" + str(doctor_list[k].nb_of_shifts))\n",
    "            if doctor_list[k].nb_of_weekends > 0: \n",
    "                #print(\"Looking at Doctor \" + str(k+1))\n",
    "                doctor_list[k].nb_of_weekends = doctor_list[k].nb_of_weekends - 1\n",
    "                #print(\"New shift number for doctor \" + str(k+1) + \" : \" + str(doctor_list[k].nb_of_weekends))\n",
    "                distribution_counter = distribution_counter + 1\n",
    "            k = k+1\n",
    "            \n",
    "    return doctor_list\n"
   ]
  },
  {
   "cell_type": "code",
   "execution_count": 29,
   "id": "538eef12-f0b2-461d-aa2f-78f9b6ad4f41",
   "metadata": {},
   "outputs": [],
   "source": [
    "#create a function to inject doctors shifts to the month object doctor_shift attribute \n",
    "def InjectShifts(doctor_list, thisMonth):\n",
    "    numDoctors = len(doctor_list)\n",
    "        \n",
    "    for n in range(numDoctors):\n",
    "        #print(\"Doctor \" + str(doctor_list[n].name) )\n",
    "        for m in range(thisMonth.days-1):\n",
    "            #print(\"Day number \" + str(len(doctor_list[n].manual_shifts)) )\n",
    "            #print(\"Day number \" + str(m) )\n",
    "            if doctor_list[n].manual_shifts[m] == 1:\n",
    "                thisMonth.doctor_shift[m] = doctor_list[n].name\n",
    "    return thisMonth"
   ]
  },
  {
   "cell_type": "code",
   "execution_count": 30,
   "id": "34192c27-8729-47f4-88da-91ac72390b48",
   "metadata": {},
   "outputs": [],
   "source": [
    "#print all details for each doctor\n",
    "\n",
    "def PrintDoctors(nobetci_sayisi, doctor_list):\n",
    "    for n in range(nobetci_sayisi):\n",
    "        print(\"------ Doctor number \" + str(n+1) + \" ------\")\n",
    "        print(\"Name : \" + doctor_list[n].name)\n",
    "        print(\"Rank : \" + doctor_list[n].rank)\n",
    "        print(\"Adjusted rank : \"+ str(doctor_list[n].adjusted_rank))\n",
    "        print(\"Does shifts ? \" + str(doctor_list[n].shift))\n",
    "        print(\"Number of shifts : \" + str(doctor_list[n].nb_of_shifts))\n",
    "        print(\"Does weekends ? \" + str(doctor_list[n].weekend))\n",
    "        print(\"Number of weekends : \" + str(doctor_list[n].nb_of_weekends))\n",
    "        print(\"Days off : \" + str(doctor_list[n].days_off))\n",
    "        print(\"Total days off : \" + str(doctor_list[n].nb_days_off))\n",
    "        print(\"Manually appointed shifts : \" + str(doctor_list[n].manual_shifts))\n",
    "        print(\"Wanted shift days : \" + str(doctor_list[n].wanted_days))\n",
    "        print(\"Unwanted shift days : \" + str(doctor_list[n].unwanted_days))\n",
    "        print(\"Shift calendar : \" + str(doctor_list[n].shift_calendar))"
   ]
  },
  {
   "cell_type": "code",
   "execution_count": 31,
   "id": "72919920",
   "metadata": {},
   "outputs": [],
   "source": [
    "#workaround potential month lenght issue\n",
    "\n",
    "def fixMonthLenght(doctor_list, thisMonth):\n",
    "    for n in range(len(doctor_list)):\n",
    "        if len(doctor_list[n].days_off) != thisMonth.days:\n",
    "            doctor_list[n].days_off = [0]*thisMonth.days\n",
    "        if len(doctor_list[n].manual_shifts) != thisMonth.days:\n",
    "            doctor_list[n].manual_shifts = [0]*thisMonth.days\n",
    "        if len(doctor_list[n].wanted_days) != thisMonth.days:\n",
    "            doctor_list[n].wanted_days = [0]*thisMonth.days\n",
    "        if len(doctor_list[n].unwanted_days) != thisMonth.days:\n",
    "            doctor_list[n].unwanted_days = [0]*thisMonth.days\n",
    "    return doctor_list"
   ]
  },
  {
   "cell_type": "code",
   "execution_count": 32,
   "id": "a7d97b77-f282-4eb5-a306-5a47ce88e1eb",
   "metadata": {},
   "outputs": [],
   "source": [
    "# -------1--------\n",
    "\n",
    "#Get month and year of shift period and create month object with correct weekends, holidays, special shifts.\n",
    "year = int(sheet_tarih.cell(4,6).value)\n",
    "month = int(sheet_tarih.cell(3,6).value)\n",
    "\n",
    "holidays = sheet_takvim_input.col_values(2)\n",
    "specialDays = sheet_takvim_input.col_values(3)\n",
    "firstDay, totalDays = monthrange(year, month)\n",
    "weekends = []\n",
    "special_shifts = []\n",
    "shifts = [\"\"]*31\n",
    "for n in range(totalDays):\n",
    "    dayofmonth = datetime.date(year,month,n+1).weekday()\n",
    "    if dayofmonth == 5 or dayofmonth == 6 or holidays[n+5] == \"TRUE\":\n",
    "        weekends.append(1)\n",
    "    else:\n",
    "        weekends.append(0)\n",
    "        \n",
    "    if specialDays[n+5] == \"TRUE\":\n",
    "        special_shifts.append(1)\n",
    "    else:\n",
    "        special_shifts.append(0)\n",
    "\n",
    "thisMonth = Month(totalDays, weekends, special_shifts, shifts)\n",
    "#print(\"Total number of days in this month is  -->  \" + str(thisMonth.days))\n",
    "#print(\"Weekends/holidays in this month is  -->  \" + str(thisMonth.weekend))\n",
    "#print(\"Special days in this month is  -->  \" + str(thisMonth.special_shift))"
   ]
  },
  {
   "cell_type": "code",
   "execution_count": 33,
   "id": "7570694f",
   "metadata": {},
   "outputs": [
    {
     "name": "stdout",
     "output_type": "stream",
     "text": [
      "[0, 0, 0, 0, 0, 1, 1, 0, 0, 0, 0, 0, 1, 1, 0, 0, 0, 0, 0, 1, 1, 0, 0, 0, 0, 0, 1, 1, 0, 0, 0]\n"
     ]
    }
   ],
   "source": [
    "print(thisMonth.weekend)"
   ]
  },
  {
   "cell_type": "code",
   "execution_count": 34,
   "id": "4a2659b9-f297-48dc-b6f0-959db9c01334",
   "metadata": {},
   "outputs": [
    {
     "name": "stdout",
     "output_type": "stream",
     "text": [
      "Number of days : 31\n"
     ]
    }
   ],
   "source": [
    "# -------2--------\n",
    "\n",
    "#Get each doctor's calendar from GSheets \"2. Takvim\" \n",
    "#Calculate shift and weekend distribution for each doctor and put it in doctor_list\n",
    "doctor_list = []\n",
    "doctor_list = GetNurseInfo(nobetci_sayisi, doctor_list)\n",
    "\n"
   ]
  },
  {
   "cell_type": "code",
   "execution_count": 35,
   "id": "0f8974dd",
   "metadata": {},
   "outputs": [
    {
     "name": "stdout",
     "output_type": "stream",
     "text": [
      "------ Doctor number 1 ------\n",
      "Name : Dinç\n",
      "Rank : 1\n",
      "Adjusted rank : 0\n",
      "Does shifts ? False\n",
      "Number of shifts : 0\n",
      "Does weekends ? False\n",
      "Number of weekends : 0\n",
      "Days off : [1, 0, 0, 0, 0, 0, 0, 0, 0, 0, 0, 0, 0, 0, 0, 0, 0, 0, 0, 0, 0, 0, 0, 0, 0, 0, 0, 0, 0, 0]\n",
      "Total days off : 1\n",
      "Manually appointed shifts : [0, 0, 0, 0, 0, 0, 0, 0, 0, 0, 0, 0, 0, 0, 0, 0, 0, 0, 0, 0, 0, 0, 0, 0, 0, 0, 0, 0, 0, 0]\n",
      "Wanted shift days : [0, 0, 0, 0, 0, 0, 0, 0, 0, 0, 0, 0, 0, 0, 0, 0, 0, 0, 0, 0, 0, 0, 0, 0, 0, 0, 0, 0, 0, 0]\n",
      "Unwanted shift days : [0, 0, 0, 0, 0, 0, 0, 0, 0, 0, 0, 0, 0, 0, 0, 0, 0, 0, 0, 0, 0, 0, 0, 0, 0, 0, 0, 0, 0, 0]\n",
      "Shift calendar : [0, 0, 0, 0, 0, 0, 0, 0, 0, 0, 0, 0, 0, 0, 0, 0, 0, 0, 0, 0, 0, 0, 0, 0, 0, 0, 0, 0, 0, 0, 0]\n",
      "------ Doctor number 2 ------\n",
      "Name : Mert\n",
      "Rank : 2\n",
      "Adjusted rank : 1.7419354838709677\n",
      "Does shifts ? True\n",
      "Number of shifts : 2\n",
      "Does weekends ? True\n",
      "Number of weekends : 1\n",
      "Days off : [0, 0, 0, 0, 0, 0, 0, 0, 0, 0, 0, 0, 0, 0, 0, 0, 0, 0, 0, 0, 0, 0, 0, 0, 1, 1, 1, 1, 0, 0]\n",
      "Total days off : 4\n",
      "Manually appointed shifts : [0, 0, 0, 0, 0, 0, 0, 0, 0, 0, 0, 0, 0, 0, 0, 0, 0, 0, 0, 0, 0, 0, 0, 0, 0, 0, 0, 0, 0, 0]\n",
      "Wanted shift days : [0, 0, 0, 0, 0, 0, 0, 0, 0, 0, 0, 0, 0, 0, 0, 0, 0, 0, 0, 0, 0, 0, 0, 0, 0, 0, 0, 0, 0, 0]\n",
      "Unwanted shift days : [0, 0, 0, 0, 0, 0, 0, 0, 0, 0, 0, 0, 0, 0, 0, 0, 0, 0, 0, 0, 0, 0, 0, 0, 0, 0, 0, 0, 0, 0]\n",
      "Shift calendar : [0, 0, 0, 0, 0, 0, 0, 0, 0, 0, 0, 0, 0, 0, 0, 0, 0, 0, 0, 0, 0, 0, 0, 0, 0, 0, 0, 0, 0, 0, 0]\n",
      "------ Doctor number 3 ------\n",
      "Name : Ceren\n",
      "Rank : 2\n",
      "Adjusted rank : 2.0\n",
      "Does shifts ? True\n",
      "Number of shifts : 3\n",
      "Does weekends ? True\n",
      "Number of weekends : 1\n",
      "Days off : [0, 0, 0, 0, 0, 0, 0, 0, 0, 0, 0, 0, 0, 0, 0, 0, 0, 0, 0, 0]\n",
      "Total days off : 0\n",
      "Manually appointed shifts : [0, 0, 0, 0, 0, 0, 0, 0, 0, 0, 0, 0, 0, 0, 0, 0, 0, 0, 0, 0]\n",
      "Wanted shift days : [0, 0, 0, 0, 0, 0, 0, 0, 0, 0, 0, 0, 0, 0, 0, 0, 0, 0, 0, 0]\n",
      "Unwanted shift days : [0, 0, 0, 0, 0, 0, 0, 0, 0, 0, 0, 0, 0, 0, 0, 0, 0, 0, 0, 0]\n",
      "Shift calendar : [0, 0, 0, 0, 0, 0, 0, 0, 0, 0, 0, 0, 0, 0, 0, 0, 0, 0, 0, 0, 0, 0, 0, 0, 0, 0, 0, 0, 0, 0, 0]\n",
      "------ Doctor number 4 ------\n",
      "Name : Ali\n",
      "Rank : 2\n",
      "Adjusted rank : 2.0\n",
      "Does shifts ? True\n",
      "Number of shifts : 3\n",
      "Does weekends ? True\n",
      "Number of weekends : 1\n",
      "Days off : [0, 0, 0, 0, 0, 0, 0, 0, 0, 0, 0, 0, 0, 0, 0, 0, 0, 0, 0, 0, 0, 0, 0, 0, 0, 0, 0, 0, 0, 0, 0]\n",
      "Total days off : 0\n",
      "Manually appointed shifts : [0, 0, 0, 0, 0, 0, 0, 0, 0, 0, 0, 0, 0, 0, 0, 0, 0, 0, 1, 0, 0, 0, 0, 0, 0, 0, 0, 0, 0, 0, 0]\n",
      "Wanted shift days : [0, 0, 0, 0, 0, 0, 0, 0, 0, 0, 0, 0, 0, 0, 0, 0, 0, 0, 0, 0, 0, 0, 0, 0, 0, 0, 0, 0, 0, 0, 0]\n",
      "Unwanted shift days : [0, 0, 0, 0, 0, 0, 0, 0, 0, 0, 0, 0, 0, 0, 0, 0, 0, 0, 0, 0, 0, 0, 0, 0, 0, 0, 0, 0, 0, 0, 0]\n",
      "Shift calendar : [0, 0, 0, 0, 0, 0, 0, 0, 0, 0, 0, 0, 0, 0, 0, 0, 0, 0, 0, 0, 0, 0, 0, 0, 0, 0, 0, 0, 0, 0, 0]\n",
      "------ Doctor number 5 ------\n",
      "Name : Emre\n",
      "Rank : 3\n",
      "Adjusted rank : 3.0\n",
      "Does shifts ? True\n",
      "Number of shifts : 4\n",
      "Does weekends ? True\n",
      "Number of weekends : 1\n",
      "Days off : [0, 0, 0, 0, 0, 0, 0, 0, 0, 0, 0, 0, 0, 0, 0, 0, 0, 0, 0, 0, 0, 0, 0, 0, 0, 0, 0, 0, 0, 0, 0]\n",
      "Total days off : 0\n",
      "Manually appointed shifts : [0, 0, 0, 0, 0, 0, 0, 0, 0, 0, 0, 0, 0, 0, 0, 0, 0, 0, 0, 0, 0, 0, 0, 0, 0, 0, 0, 0, 0, 0, 0]\n",
      "Wanted shift days : [0, 0, 0, 0, 0, 0, 0, 0, 0, 0, 0, 0, 0, 0, 0, 0, 0, 0, 0, 0, 0, 0, 0, 0, 0, 0, 0, 0, 0, 0, 0]\n",
      "Unwanted shift days : [0, 1, 0, 0, 0, 1, 1, 0, 0, 0, 0, 0, 0, 0, 0, 0, 0, 0, 0, 0, 0, 0, 0, 0, 0, 0, 0, 0, 0, 0, 0]\n",
      "Shift calendar : [0, 0, 0, 0, 0, 0, 0, 0, 0, 0, 0, 0, 0, 0, 0, 0, 0, 0, 0, 0, 0, 0, 0, 0, 0, 0, 0, 0, 0, 0, 0]\n",
      "------ Doctor number 6 ------\n",
      "Name : Hüseyin\n",
      "Rank : 4\n",
      "Adjusted rank : 3.870967741935484\n",
      "Does shifts ? True\n",
      "Number of shifts : 5\n",
      "Does weekends ? True\n",
      "Number of weekends : 2\n",
      "Days off : [0, 0, 0, 0, 0, 0, 0, 0, 0, 0, 0, 0, 0, 0, 0, 0, 1, 0, 0, 0, 0, 0, 0, 0, 0, 0, 0, 0, 0, 0, 0]\n",
      "Total days off : 1\n",
      "Manually appointed shifts : [0, 0, 0, 0, 0, 0, 0, 0, 0, 0, 0, 0, 0, 0, 1, 0, 0, 0, 0, 0, 0, 0, 0, 0, 0, 0, 0, 0, 0, 0, 0]\n",
      "Wanted shift days : [0, 0, 1, 1, 1, 1, 1, 0, 0, 0, 0, 0, 0, 0, 0, 1, 0, 0, 0, 0, 0, 0, 0, 0, 0, 0, 0, 0, 0, 0, 0]\n",
      "Unwanted shift days : [0, 0, 0, 0, 0, 0, 0, 0, 0, 0, 0, 0, 0, 0, 0, 0, 0, 0, 0, 0, 0, 0, 0, 0, 0, 0, 0, 0, 0, 0, 0]\n",
      "Shift calendar : [0, 0, 0, 0, 0, 0, 0, 0, 0, 0, 0, 0, 0, 0, 0, 0, 0, 0, 0, 0, 0, 0, 0, 0, 0, 0, 0, 0, 0, 0, 0]\n",
      "------ Doctor number 7 ------\n",
      "Name : Ezgi\n",
      "Rank : 5\n",
      "Adjusted rank : 4.838709677419355\n",
      "Does shifts ? True\n",
      "Number of shifts : 7\n",
      "Does weekends ? True\n",
      "Number of weekends : 2\n",
      "Days off : [0, 0, 0, 0, 0, 0, 0, 0, 0, 0, 0, 0, 0, 0, 0, 0, 0, 0, 0, 0, 0, 0, 0, 0, 0, 0, 0, 0, 1]\n",
      "Total days off : 1\n",
      "Manually appointed shifts : [0, 0, 0, 0, 0, 0, 0, 0, 0, 0, 0, 0, 0, 0, 0, 0, 0, 0, 0, 0, 0, 0, 0, 0, 0, 0, 0, 0, 0]\n",
      "Wanted shift days : [0, 0, 0, 0, 0, 0, 0, 0, 0, 0, 0, 0, 0, 0, 0, 0, 0, 0, 0, 0, 0, 0, 0, 0, 0, 0, 0, 0, 0]\n",
      "Unwanted shift days : [0, 0, 0, 0, 0, 0, 0, 0, 0, 0, 0, 0, 0, 0, 0, 0, 0, 0, 0, 0, 0, 0, 0, 0, 0, 0, 0, 0, 0]\n",
      "Shift calendar : [0, 0, 0, 0, 0, 0, 0, 0, 0, 0, 0, 0, 0, 0, 0, 0, 0, 0, 0, 0, 0, 0, 0, 0, 0, 0, 0, 0, 0, 0, 0]\n",
      "------ Doctor number 8 ------\n",
      "Name : Elif\n",
      "Rank : 5\n",
      "Adjusted rank : 5.0\n",
      "Does shifts ? True\n",
      "Number of shifts : 7\n",
      "Does weekends ? True\n",
      "Number of weekends : 3\n",
      "Days off : [0, 0, 0, 0, 0, 0, 0, 0, 0, 0, 0, 0, 0, 0, 0, 0, 0, 0, 0, 0, 0, 0, 0, 0, 0, 0, 0, 0, 0, 0, 0]\n",
      "Total days off : 0\n",
      "Manually appointed shifts : [0, 0, 0, 0, 0, 0, 0, 0, 0, 0, 0, 0, 0, 0, 0, 0, 0, 0, 0, 0, 0, 0, 0, 0, 0, 0, 0, 0, 0, 0, 0]\n",
      "Wanted shift days : [0, 0, 0, 0, 0, 0, 0, 0, 0, 0, 0, 0, 0, 0, 0, 0, 0, 0, 0, 0, 0, 0, 0, 0, 0, 0, 0, 0, 0, 0, 0]\n",
      "Unwanted shift days : [0, 0, 0, 0, 0, 0, 0, 0, 0, 0, 0, 0, 0, 0, 0, 0, 0, 0, 0, 0, 0, 0, 0, 0, 0, 0, 0, 0, 0, 0, 0]\n",
      "Shift calendar : [0, 0, 0, 0, 0, 0, 0, 0, 0, 0, 0, 0, 0, 0, 0, 0, 0, 0, 0, 0, 0, 0, 0, 0, 0, 0, 0, 0, 0, 0, 0]\n"
     ]
    }
   ],
   "source": [
    "PrintDoctors(nobetci_sayisi, doctor_list)"
   ]
  },
  {
   "cell_type": "code",
   "execution_count": 36,
   "id": "0ed228ce-24d0-4346-b4c5-a3dbc077e294",
   "metadata": {},
   "outputs": [
    {
     "data": {
      "text/plain": [
       "{'spreadsheetId': '1bdXz3_N18NCq1F3Zk1kiqDSAH_-dRc87yXG5IZCFtLc',\n",
       " 'updatedRange': \"'3. Birim dagilimi'!C9:C16\",\n",
       " 'updatedRows': 8,\n",
       " 'updatedColumns': 1,\n",
       " 'updatedCells': 8}"
      ]
     },
     "execution_count": 36,
     "metadata": {},
     "output_type": "execute_result"
    }
   ],
   "source": [
    "# -------3-------\n",
    "\n",
    "#Insert values to tab --> \"3. Birim Dagilimi\"\n",
    "\n",
    "nameRange = \"A9:A\" + str(nobetci_sayisi+8)\n",
    "shiftRange = \"B9:B\" + str(nobetci_sayisi+8)\n",
    "weekendRange = \"C9:C\" + str(nobetci_sayisi+8)\n",
    "\n",
    "cellList = sheet_birim_dagilimi.range(nameRange)\n",
    "for cell in cellList:\n",
    "    cell.value = doctor_list[cell.row-9].name\n",
    "sheet_birim_dagilimi.update_cells(cellList)\n",
    "\n",
    "shiftCellList = sheet_birim_dagilimi.range(shiftRange)\n",
    "for cell in shiftCellList:\n",
    "    cell.value = doctor_list[cell.row-9].nb_of_shifts+doctor_list[cell.row-9].nb_of_weekends\n",
    "sheet_birim_dagilimi.update_cells(shiftCellList)\n",
    "\n",
    "weekendCellList = sheet_birim_dagilimi.range(weekendRange)\n",
    "for cell in weekendCellList:\n",
    "    cell.value = doctor_list[cell.row-9].nb_of_weekends\n",
    "sheet_birim_dagilimi.update_cells(weekendCellList)\n",
    "    "
   ]
  },
  {
   "cell_type": "code",
   "execution_count": 37,
   "id": "19d2db39-af39-41e0-91dd-cf867f57e291",
   "metadata": {},
   "outputs": [],
   "source": [
    "# -------4-------\n",
    "\n",
    "#When the team leader has manually set each doctor's weekends and credits in \"3. Birim dagilimi tab\"\n",
    "#Take the manually adjusted shift/weekend numbers to inject them into the doctor_list \n",
    "\n",
    "col_shifts = sheet_birim_dagilimi.col_values(5)\n",
    "col_weekends = sheet_birim_dagilimi.col_values(3)\n",
    "\n",
    "for n in range(nobetci_sayisi):\n",
    "    doctor_list[n].nb_of_shifts = int(col_shifts[8+n])\n",
    "    doctor_list[n].nb_of_weekends = int(col_weekends[8+n])\n",
    "\n",
    "#PrintDoctors(nobetci_sayisi, doctor_list)"
   ]
  },
  {
   "cell_type": "code",
   "execution_count": 38,
   "id": "6962c72f",
   "metadata": {},
   "outputs": [],
   "source": [
    "doctor_list = fixMonthLenght(doctor_list, thisMonth)"
   ]
  },
  {
   "cell_type": "code",
   "execution_count": 39,
   "id": "285ec48e-049c-4be7-89b7-46532d825f04",
   "metadata": {},
   "outputs": [],
   "source": [
    "# -------5-------\n",
    "\n",
    "#Call InjectShifts to put manual shifts of doctors into thisMonth object's calendar\n",
    "\n",
    "thisMonth = InjectShifts(doctor_list, thisMonth)\n",
    "#print(thisMonth.days)\n",
    "#print(thisMonth.doctor_shift)\n",
    "\n",
    "\n",
    "#print(thisMonth.doctor_shift)"
   ]
  },
  {
   "cell_type": "code",
   "execution_count": 40,
   "id": "3ec30d39-2582-4dbc-86aa-015623880d3d",
   "metadata": {},
   "outputs": [
    {
     "data": {
      "text/plain": [
       "{'spreadsheetId': '1bdXz3_N18NCq1F3Zk1kiqDSAH_-dRc87yXG5IZCFtLc',\n",
       " 'updatedRange': \"'4. Takvim output'!B3:H26\",\n",
       " 'updatedRows': 24,\n",
       " 'updatedColumns': 7,\n",
       " 'updatedCells': 168}"
      ]
     },
     "execution_count": 40,
     "metadata": {},
     "output_type": "execute_result"
    }
   ],
   "source": [
    "# -------6-------\n",
    "\n",
    "#Print this month's calendar shifts on Google Sheets last tab : \"4. Takvim output\"\n",
    "\n",
    "cells = sheet_takvim_output.range(\"B3:H26\")\n",
    "\n",
    "sheet_calendar_calculation = client.open(\"Shift_optimization\").worksheet('calendar-calculation')\n",
    "calculationCells = sheet_calendar_calculation.range(\"B3:H26\")\n",
    "nameRange = 0\n",
    "\n",
    "for n in range(len(calculationCells)):\n",
    "    cells[n].value = calculationCells[n].value\n",
    "\n",
    "for n in range(len(cells)):\n",
    "    #print(\"Looking at position number \" + str(n) + \" - Cell value : \" + str(cells[n].value))\n",
    "    if cells[n].value.isnumeric():        \n",
    "        #print(cells[n].value)\n",
    "        cells[n+7].value = thisMonth.doctor_shift[nameRange]\n",
    "        nameRange = nameRange + 1\n",
    "        \n",
    "sheet_takvim_output.update_cells(cells)\n",
    "        \n"
   ]
  },
  {
   "cell_type": "markdown",
   "id": "38efb716",
   "metadata": {},
   "source": [
    "# CP Model"
   ]
  },
  {
   "cell_type": "markdown",
   "id": "5e39e854",
   "metadata": {},
   "source": [
    "<div class=\"alert alert-block alert-danger\">\n",
    "<b>Buraya Dikkat:</b> Buradan sonrasi Mert'in kodu; degisiklik yaparken conflict olmamasina dikkat edelim.\n",
    "</div>"
   ]
  },
  {
   "cell_type": "code",
   "execution_count": 41,
   "id": "9824ff7e",
   "metadata": {},
   "outputs": [],
   "source": [
    "from ortools.sat.python import cp_model\n",
    "import numpy as np"
   ]
  },
  {
   "cell_type": "code",
   "execution_count": 42,
   "id": "d9fe7c8c",
   "metadata": {},
   "outputs": [],
   "source": [
    "golden_copy_doctors = doctor_list"
   ]
  },
  {
   "cell_type": "code",
   "execution_count": 43,
   "id": "318af7ae",
   "metadata": {},
   "outputs": [
    {
     "name": "stdout",
     "output_type": "stream",
     "text": [
      "Doctors: 8\n",
      "Days: 31\n",
      "Shifts: 1\n"
     ]
    }
   ],
   "source": [
    "num_nurses = len(doctor_list)\n",
    "num_days = thisMonth.days\n",
    "num_shifts = 1\n",
    "\n",
    "all_nurses = range(num_nurses)\n",
    "print(\"Doctors: \" + str(num_nurses))\n",
    "all_days = range(num_days)\n",
    "print(\"Days: \" + str(num_days))\n",
    "all_shifts = range(num_shifts)\n",
    "print(\"Shifts: \" + str(num_shifts))"
   ]
  },
  {
   "cell_type": "markdown",
   "id": "d59b7355",
   "metadata": {},
   "source": [
    "Initialize Model and variables"
   ]
  },
  {
   "cell_type": "code",
   "execution_count": 44,
   "id": "cd2790e5",
   "metadata": {},
   "outputs": [
    {
     "name": "stdout",
     "output_type": "stream",
     "text": [
      "248\n"
     ]
    }
   ],
   "source": [
    "# Create the model\n",
    "model = cp_model.CpModel()\n",
    "\n",
    "# Creates shift variables.\n",
    "# shifts[(n, d)]: nurse 'n' works on day 'd'.\n",
    "shifts = {}\n",
    "for n in all_nurses:\n",
    "    for d in all_days:\n",
    "        for s in all_shifts:\n",
    "            shifts[(n, d, s)] = model.NewBoolVar('shift_n%id%is%i' % (n, d, s))\n",
    "print(len(shifts))"
   ]
  },
  {
   "cell_type": "markdown",
   "id": "3955fd2f",
   "metadata": {},
   "source": [
    "# Contraints"
   ]
  },
  {
   "cell_type": "markdown",
   "id": "e3517edd",
   "metadata": {},
   "source": [
    "## 1. Hard Contraints"
   ]
  },
  {
   "cell_type": "markdown",
   "id": "29c89ca7",
   "metadata": {},
   "source": [
    "#### 0. Set number of shifts for each doctor"
   ]
  },
  {
   "cell_type": "code",
   "execution_count": 45,
   "id": "e538b9b7",
   "metadata": {},
   "outputs": [],
   "source": [
    "for n in all_nurses:\n",
    "    model.Add(sum(shifts[(n, d, s)] for d in all_days for s in all_shifts) <= doctor_list[n].nb_of_shifts)"
   ]
  },
  {
   "cell_type": "code",
   "execution_count": 46,
   "id": "cf82a2f7",
   "metadata": {},
   "outputs": [],
   "source": [
    "for n in all_nurses:\n",
    "    for d in all_days:\n",
    "        if doctor_list[n].manual_shifts[d] >= 1:\n",
    "            model.Add(shifts[(n, d, 0)] == 1)"
   ]
  },
  {
   "cell_type": "markdown",
   "id": "275ebaa9",
   "metadata": {},
   "source": [
    "#### 1.a Assign one docter per shift"
   ]
  },
  {
   "cell_type": "code",
   "execution_count": 47,
   "id": "0f8a938d",
   "metadata": {},
   "outputs": [],
   "source": [
    "for d in all_days:\n",
    "    for s in all_shifts:\n",
    "        model.Add(sum(shifts[(n, d, s)] for n in all_nurses) == 1)"
   ]
  },
  {
   "cell_type": "code",
   "execution_count": 48,
   "id": "112e8683",
   "metadata": {},
   "outputs": [],
   "source": [
    "# Each nurse works at most one shift per day.\n",
    "for n in all_nurses:\n",
    "    for d in all_days:\n",
    "        model.Add(sum(shifts[(n, d, s)] for s in all_shifts) <= 1)"
   ]
  },
  {
   "cell_type": "markdown",
   "id": "5b352471",
   "metadata": {},
   "source": [
    "#### 1.b No shift on off days"
   ]
  },
  {
   "cell_type": "code",
   "execution_count": 49,
   "id": "aeca3942",
   "metadata": {},
   "outputs": [],
   "source": [
    "# No shift on off days .\n",
    "for n in all_nurses:\n",
    "    for d in all_days:\n",
    "        model.Add(sum(shifts[(n, d,s)] for s in all_shifts)+doctor_list[n].days_off[d] <= 1)"
   ]
  },
  {
   "cell_type": "markdown",
   "id": "8e94d69f",
   "metadata": {},
   "source": [
    "Testing the condition"
   ]
  },
  {
   "cell_type": "code",
   "execution_count": 50,
   "id": "2e64ba7d",
   "metadata": {},
   "outputs": [],
   "source": [
    "# doctor_list[1].days_off = [1]*31"
   ]
  },
  {
   "cell_type": "markdown",
   "id": "7a881c71",
   "metadata": {},
   "source": [
    "#### 1.c No consequtive shifts"
   ]
  },
  {
   "cell_type": "code",
   "execution_count": 51,
   "id": "60d35681",
   "metadata": {},
   "outputs": [],
   "source": [
    "# No consecutive shifts .\n",
    "for n in all_nurses:\n",
    "    for d in all_days[1:]:\n",
    "        model.Add(sum(shifts[(n, d-1, s)] for s in all_shifts)+sum(shifts[(n, d, s)] for s in all_shifts) <= 1)"
   ]
  },
  {
   "cell_type": "markdown",
   "id": "7bdb03eb",
   "metadata": {},
   "source": [
    "#### 1.d No consequtive same weekend day shifts"
   ]
  },
  {
   "cell_type": "code",
   "execution_count": 52,
   "id": "82fdc33b",
   "metadata": {},
   "outputs": [],
   "source": [
    "for n in all_nurses:\n",
    "    for d in all_days[7:]:\n",
    "        model.Add(sum(shifts[(n, d-7, s)]+shifts[(n, d, s)] for s in all_shifts)+thisMonth.weekend[d] <= 2)"
   ]
  },
  {
   "cell_type": "markdown",
   "id": "054b72f0",
   "metadata": {},
   "source": [
    "## 2. Soft Contraints"
   ]
  },
  {
   "cell_type": "markdown",
   "id": "798dbb9e",
   "metadata": {},
   "source": [
    "#### 2.a Penalize unwanted days selected"
   ]
  },
  {
   "cell_type": "code",
   "execution_count": 53,
   "id": "9ae60428",
   "metadata": {},
   "outputs": [],
   "source": [
    "unwanted_days = sum(doctor_list[n].unwanted_days[d]*shifts[(n, d, s)] for n in all_nurses\n",
    "                   for d in all_days for s in all_shifts)"
   ]
  },
  {
   "cell_type": "markdown",
   "id": "82133202",
   "metadata": {},
   "source": [
    "#### 2.b Award wanted days selected"
   ]
  },
  {
   "cell_type": "code",
   "execution_count": 54,
   "id": "c348a148",
   "metadata": {},
   "outputs": [],
   "source": [
    "wanted_days = sum(doctor_list[n].wanted_days[d]*shifts[(n, d, s)] for n in all_nurses\n",
    "                   for d in all_days for s in all_shifts)"
   ]
  },
  {
   "cell_type": "markdown",
   "id": "96600a16",
   "metadata": {},
   "source": [
    "#### 2.c Penalize close days selected (to be reworked)"
   ]
  },
  {
   "cell_type": "code",
   "execution_count": 55,
   "id": "01460c47",
   "metadata": {},
   "outputs": [],
   "source": [
    "# x, y = 0, 0\n",
    "# farness = []\n",
    "\n",
    "# for n in all_nurses:\n",
    "#     for d in all_days[:6]:\n",
    "#         if x != 0:\n",
    "#             y = x\n",
    "#         x = d*sum(shifts[(n, d, s)] for s in all_shifts)\n",
    "#         if y != 0:\n",
    "#             farness.append(x-y)"
   ]
  },
  {
   "cell_type": "code",
   "execution_count": 56,
   "id": "2958c411",
   "metadata": {},
   "outputs": [],
   "source": [
    "# def multiplyList(xList) :\n",
    "     \n",
    "#     product = 1\n",
    "#     for x in xList:\n",
    "#          product = product * x\n",
    "#     return product\n",
    "\n",
    "# close_days = multiplyList(farness)"
   ]
  },
  {
   "cell_type": "code",
   "execution_count": 57,
   "id": "99ce11b7",
   "metadata": {},
   "outputs": [
    {
     "name": "stdout",
     "output_type": "stream",
     "text": [
      "[0, 13, 10, 10, 7, 6, 4, 4]\n"
     ]
    }
   ],
   "source": [
    "#find ideal rotation of shifts per doctor\n",
    "idealRotation = []\n",
    "\n",
    "for n in all_nurses:\n",
    "    if doctor_list[n].nb_of_shifts > 0:\n",
    "        x = int((31-int(doctor_list[n].nb_days_off))/doctor_list[n].nb_of_shifts)\n",
    "    else:\n",
    "        x = 0\n",
    "    idealRotation.append(x)\n",
    "    \n",
    "print (idealRotation)"
   ]
  },
  {
   "cell_type": "code",
   "execution_count": 58,
   "id": "49d1a0a0",
   "metadata": {},
   "outputs": [],
   "source": [
    "#sum(shifts[(n, d, s)] for n in all_nurses for d in idealRotation[n] for s in all_shifts)\n",
    "\n",
    "#day_rotat_2 = sum(shifts[(n, d-2, s)]*shifts[(n, d, s)] for n in all_nurses for d in all_days[2:] for s in all_shifts)\n",
    "#day_rotat_3 = sum(shifts[(n, d-3, s)]*shifts[(n, d, s)] for n in all_nurses for d in all_days[3:] for s in all_shifts)"
   ]
  },
  {
   "cell_type": "code",
   "execution_count": 59,
   "id": "0c1fa918",
   "metadata": {},
   "outputs": [],
   "source": [
    "#incre_array = np.arange(1,thisMonth.days+1)\n",
    "#days_distrb =  sum(np.absolute(((np.power(np.prod(np.multiply(incre_array[d],shifts[(n, d, s)])),(1/doctor_list[n].nb_of_shifts))\n",
    "#                    -(np.power(np.multiply(incre_array[d],np.subtract(np.ones(31),doctor_list[n].days_off)),(1/(31-doctor_list[n].nb_days_off)))\n",
    "#                              -np.power(np.prod(np.arange(1,(32-doctor_list[n].days_off)),(1/(31-doctor_list[n].nb_days_off))))))\n",
    "#                    /(31-doctor_list[n].nb_days_off))-0.5)\n",
    "#                   if doctor_list[n].nb_of_shifts > 0 else 0\n",
    "#                   for n in all_nurses for d in all_days for s in all_shifts)"
   ]
  },
  {
   "cell_type": "markdown",
   "id": "50acdbff",
   "metadata": {},
   "source": [
    "#### 2.d Penalize same weekend day shift"
   ]
  },
  {
   "cell_type": "code",
   "execution_count": 60,
   "id": "3608c80d",
   "metadata": {},
   "outputs": [],
   "source": [
    "#implemented as hard constraint - see 1.d"
   ]
  },
  {
   "cell_type": "markdown",
   "id": "fb333f1e",
   "metadata": {},
   "source": [
    "#### Setting the objective"
   ]
  },
  {
   "cell_type": "code",
   "execution_count": 61,
   "id": "f10a717a",
   "metadata": {},
   "outputs": [],
   "source": [
    "model.Minimize(unwanted_days*20-wanted_days*15)"
   ]
  },
  {
   "cell_type": "markdown",
   "id": "f0572db1",
   "metadata": {},
   "source": [
    "# Execute Solver"
   ]
  },
  {
   "cell_type": "code",
   "execution_count": null,
   "id": "2239a3ce",
   "metadata": {},
   "outputs": [],
   "source": [
    "# Creates the solver and solve.\n",
    "solver = cp_model.CpSolver()\n",
    "status = solver.Solve(model)\n",
    "# Enumerate all solutions.\n",
    "solver.parameters.enumerate_all_solutions = True\n",
    "\n",
    "if status == cp_model.OPTIMAL:\n",
    "    print('Solution:')\n",
    "    \n",
    "    for n in all_nurses:\n",
    "        print('Nurse', n, doctor_list[n].name)\n",
    "        for d in all_days:\n",
    "            for s in all_shifts:\n",
    "                if solver.Value(shifts[(n, d, s)]) == 1:\n",
    "                # Need to update doctor_list[n].shift_calendar[d] = 1\n",
    "                    print('  Day', d+1) #Plus 1 because it's converting array index into real calendar day\n",
    "        print()\n",
    "    print(f'Maximum of objective function: {solver.ObjectiveValue()}\\n')\n",
    "elif status == cp_model.FEASIBLE:\n",
    "    print(f'Maximum of objective function: {solver.ObjectiveValue()}\\n')\n",
    "else:\n",
    "    print('No optimal solution found !')"
   ]
  },
  {
   "cell_type": "code",
   "execution_count": 73,
   "id": "4264e7ef",
   "metadata": {},
   "outputs": [
    {
     "name": "stdout",
     "output_type": "stream",
     "text": [
      "[[[0], [0], [0], [0], [0], [0], [0], [0], [0], [0], [0], [0], [0], [0], [0], [0], [0], [0], [0], [0], [0], [0], [0], [0], [0], [0], [0], [0], [0], [0], [0]], [[0], [0], [0], [0], [0], [0], [0], [0], [0], [0], [0], [0], [0], [0], [0], [0], [0], [0], [0], [0], [0], [0], [0], [0], [0], [0], [0], [0], [0], [0], [0]], [[0], [0], [0], [0], [0], [0], [0], [0], [0], [0], [0], [0], [0], [0], [0], [0], [0], [0], [0], [0], [0], [0], [0], [0], [0], [0], [0], [0], [0], [0], [0]], [[0], [0], [0], [0], [0], [0], [0], [0], [0], [0], [0], [0], [0], [0], [0], [0], [0], [0], [0], [0], [0], [0], [0], [0], [0], [0], [0], [0], [0], [0], [0]]]\n"
     ]
    }
   ],
   "source": [
    "#resultingArray = list(range(0, 4))\n",
    "for s in range(0, 4):\n",
    "    resultingArray[s] = [[0]]*num_days\n",
    "    \n",
    "print(resultingArray)"
   ]
  },
  {
   "cell_type": "markdown",
   "id": "f89a1802",
   "metadata": {},
   "source": [
    "# 4 Cells below → PythonAnywhere"
   ]
  },
  {
   "cell_type": "code",
   "execution_count": null,
   "id": "bb9df412",
   "metadata": {},
   "outputs": [],
   "source": [
    "from ortools.sat.python import cp_model"
   ]
  },
  {
   "cell_type": "code",
   "execution_count": 74,
   "id": "53f13186",
   "metadata": {},
   "outputs": [],
   "source": [
    "def hardConstrained(model,all_nurses,all_days,all_shifts):\n",
    "    \n",
    "    constrainedModel = model\n",
    "    \n",
    "    # Constraint 0\n",
    "    for n in all_nurses:\n",
    "        constrainedModel.Add(sum(shifts[(n, d, s)] for d in all_days for s in all_shifts) <= doctor_list[n].nb_of_shifts)\n",
    "        \n",
    "    for n in all_nurses:\n",
    "        for d in all_days:\n",
    "            if doctor_list[n].manual_shifts[d] >= 1:\n",
    "                constrainedModel.Add(shifts[(n, d, 0)] == 1)\n",
    "    \n",
    "    # Constraint 1.a\n",
    "    for d in all_days:\n",
    "        for s in all_shifts:\n",
    "            constrainedModel.Add(sum(shifts[(n, d, s)] for n in all_nurses) == 1)\n",
    "    for n in all_nurses:\n",
    "        for d in all_days:\n",
    "            constrainedModel.Add(sum(shifts[(n, d, s)] for s in all_shifts) <= 1)       \n",
    "    \n",
    "    # Constraint 1.b\n",
    "    # No shift on off days .\n",
    "    for n in all_nurses:\n",
    "        for d in all_days:\n",
    "            constrainedModel.Add(sum(shifts[(n, d,s)] for s in all_shifts)+doctor_list[n].days_off[d] <= 1)\n",
    "            \n",
    "    # Constraint 1.c\n",
    "    # No consecutive shifts .\n",
    "    for n in all_nurses:\n",
    "        for d in all_days[1:]:\n",
    "            constrainedModel.Add(sum(shifts[(n, d-1, s)] for s in all_shifts)+sum(shifts[(n, d, s)] for s in all_shifts) <= 1)\n",
    "            \n",
    "    # Constraint 1.d\n",
    "    for n in all_nurses:\n",
    "        for d in all_days[7:]:\n",
    "            constrainedModel.Add(sum(shifts[(n, d-7, s)]+shifts[(n, d, s)] for s in all_shifts)+thisMonth.weekend[d] <= 2)\n",
    "            \n",
    "    return constrainedModel"
   ]
  },
  {
   "cell_type": "code",
   "execution_count": 75,
   "id": "4ea0c0aa",
   "metadata": {},
   "outputs": [],
   "source": [
    "def softConstrained(model,all_nurses,all_days,all_shifts):\n",
    "    \n",
    "    constrainedModel = model\n",
    "    \n",
    "    # Constraint 2.a\n",
    "    unwanted_days = sum(doctor_list[n].unwanted_days[d]*shifts[(n, d, s)] for n in all_nurses\n",
    "                       for d in all_days for s in all_shifts)\n",
    "    \n",
    "    # Constraint 2.b\n",
    "    wanted_days = sum(doctor_list[n].wanted_days[d]*shifts[(n, d, s)] for n in all_nurses\n",
    "                       for d in all_days for s in all_shifts)\n",
    "    \n",
    "    constrainedModel.Minimize(unwanted_days*20-wanted_days*15)\n",
    "    \n",
    "    return constrainedModel"
   ]
  },
  {
   "cell_type": "code",
   "execution_count": 108,
   "id": "148a6636",
   "metadata": {},
   "outputs": [],
   "source": [
    "def shiftOptimizer(doctors, thisMonth):\n",
    "    num_nurses = len(doctors)\n",
    "    num_days = thisMonth.days\n",
    "    num_shifts = 1\n",
    "    \n",
    "    all_nurses = range(num_nurses)\n",
    "    print(\"Doctors: \" + str(num_nurses))\n",
    "    all_days = range(num_days)\n",
    "    print(\"Days: \" + str(num_days))\n",
    "    all_shifts = range(num_shifts)\n",
    "    print(\"Shifts: \" + str(num_shifts))\n",
    "    print()\n",
    "    \n",
    "    # Create the model\n",
    "    model = cp_model.CpModel()\n",
    "\n",
    "    # Creates shift variables.\n",
    "    # shifts[(n, d)]: nurse 'n' works on day 'd'.\n",
    "    shifts = {}\n",
    "    for n in all_nurses:\n",
    "        for d in all_days:\n",
    "            for s in all_shifts:\n",
    "                shifts[(n, d, s)] = model.NewBoolVar('shift_n%id%is%i' % (n, d, s))\n",
    "    print(len(shifts))\n",
    "    print()\n",
    "    \n",
    "    model = hardConstrained(model,all_nurses,all_days,all_shifts)\n",
    "    \n",
    "    model = softConstrained(model,all_nurses,all_days,all_shifts)\n",
    "    \n",
    "    # Creates the solver and solve.\n",
    "    solver = cp_model.CpSolver()\n",
    "    status = solver.Solve(model)\n",
    "    for sol in range(0, 4):\n",
    "        for d in all_days:\n",
    "            resultingArray[sol][d] = [-1]\n",
    "\n",
    "    if status == cp_model.OPTIMAL:\n",
    "        print('Solution:')\n",
    "        \n",
    "        for n in all_nurses:\n",
    "            print('Nurse', n, doctor_list[n].name)\n",
    "            for d in all_days:\n",
    "                for s in all_shifts:\n",
    "                    if solver.Value(shifts[(n, d, s)]) == 1:\n",
    "                        # Need to update doctor_list[n].shift_calendar[d] = 1\n",
    "                        print('  Day', d+1) #Plus 1 because it's converting array index into real calendar day\n",
    "                        resultingArray[0][d][s] = n\n",
    "                        print('  Results Updated', resultingArray[0])\n",
    "            print()\n",
    "        print(f'Maximum of objective function: {solver.ObjectiveValue()}\\n')\n",
    "    else:\n",
    "        print('No optimal solution found !')\n",
    "        \n",
    "    return resultingArray\n",
    "    \n",
    "    \n",
    "    "
   ]
  },
  {
   "cell_type": "code",
   "execution_count": 109,
   "id": "e1ccbcf2",
   "metadata": {},
   "outputs": [
    {
     "name": "stdout",
     "output_type": "stream",
     "text": [
      "Doctors: 8\n",
      "Days: 31\n",
      "Shifts: 1\n",
      "\n",
      "248\n",
      "\n",
      "Solution:\n",
      "Nurse 0 Dinç\n",
      "\n",
      "Nurse 1 Mert\n",
      "  Day 11\n",
      "  Results Updated [[-1], [-1], [-1], [-1], [-1], [-1], [-1], [-1], [-1], [-1], [1], [-1], [-1], [-1], [-1], [-1], [-1], [-1], [-1], [-1], [-1], [-1], [-1], [-1], [-1], [-1], [-1], [-1], [-1], [-1], [-1]]\n",
      "  Day 21\n",
      "  Results Updated [[-1], [-1], [-1], [-1], [-1], [-1], [-1], [-1], [-1], [-1], [1], [-1], [-1], [-1], [-1], [-1], [-1], [-1], [-1], [-1], [1], [-1], [-1], [-1], [-1], [-1], [-1], [-1], [-1], [-1], [-1]]\n",
      "\n",
      "Nurse 2 Ceren\n",
      "  Day 12\n",
      "  Results Updated [[-1], [-1], [-1], [-1], [-1], [-1], [-1], [-1], [-1], [-1], [1], [2], [-1], [-1], [-1], [-1], [-1], [-1], [-1], [-1], [1], [-1], [-1], [-1], [-1], [-1], [-1], [-1], [-1], [-1], [-1]]\n",
      "  Day 14\n",
      "  Results Updated [[-1], [-1], [-1], [-1], [-1], [-1], [-1], [-1], [-1], [-1], [1], [2], [-1], [2], [-1], [-1], [-1], [-1], [-1], [-1], [1], [-1], [-1], [-1], [-1], [-1], [-1], [-1], [-1], [-1], [-1]]\n",
      "  Day 20\n",
      "  Results Updated [[-1], [-1], [-1], [-1], [-1], [-1], [-1], [-1], [-1], [-1], [1], [2], [-1], [2], [-1], [-1], [-1], [-1], [-1], [2], [1], [-1], [-1], [-1], [-1], [-1], [-1], [-1], [-1], [-1], [-1]]\n",
      "\n",
      "Nurse 3 Ali\n",
      "  Day 13\n",
      "  Results Updated [[-1], [-1], [-1], [-1], [-1], [-1], [-1], [-1], [-1], [-1], [1], [2], [3], [2], [-1], [-1], [-1], [-1], [-1], [2], [1], [-1], [-1], [-1], [-1], [-1], [-1], [-1], [-1], [-1], [-1]]\n",
      "  Day 19\n",
      "  Results Updated [[-1], [-1], [-1], [-1], [-1], [-1], [-1], [-1], [-1], [-1], [1], [2], [3], [2], [-1], [-1], [-1], [-1], [3], [2], [1], [-1], [-1], [-1], [-1], [-1], [-1], [-1], [-1], [-1], [-1]]\n",
      "  Day 27\n",
      "  Results Updated [[-1], [-1], [-1], [-1], [-1], [-1], [-1], [-1], [-1], [-1], [1], [2], [3], [2], [-1], [-1], [-1], [-1], [3], [2], [1], [-1], [-1], [-1], [-1], [-1], [3], [-1], [-1], [-1], [-1]]\n",
      "\n",
      "Nurse 4 Emre\n",
      "  Day 1\n",
      "  Results Updated [[4], [-1], [-1], [-1], [-1], [-1], [-1], [-1], [-1], [-1], [1], [2], [3], [2], [-1], [-1], [-1], [-1], [3], [2], [1], [-1], [-1], [-1], [-1], [-1], [3], [-1], [-1], [-1], [-1]]\n",
      "  Day 9\n",
      "  Results Updated [[4], [-1], [-1], [-1], [-1], [-1], [-1], [-1], [4], [-1], [1], [2], [3], [2], [-1], [-1], [-1], [-1], [3], [2], [1], [-1], [-1], [-1], [-1], [-1], [3], [-1], [-1], [-1], [-1]]\n",
      "  Day 17\n",
      "  Results Updated [[4], [-1], [-1], [-1], [-1], [-1], [-1], [-1], [4], [-1], [1], [2], [3], [2], [-1], [-1], [4], [-1], [3], [2], [1], [-1], [-1], [-1], [-1], [-1], [3], [-1], [-1], [-1], [-1]]\n",
      "  Day 29\n",
      "  Results Updated [[4], [-1], [-1], [-1], [-1], [-1], [-1], [-1], [4], [-1], [1], [2], [3], [2], [-1], [-1], [4], [-1], [3], [2], [1], [-1], [-1], [-1], [-1], [-1], [3], [-1], [4], [-1], [-1]]\n",
      "\n",
      "Nurse 5 Hüseyin\n",
      "  Day 3\n",
      "  Results Updated [[4], [-1], [5], [-1], [-1], [-1], [-1], [-1], [4], [-1], [1], [2], [3], [2], [-1], [-1], [4], [-1], [3], [2], [1], [-1], [-1], [-1], [-1], [-1], [3], [-1], [4], [-1], [-1]]\n",
      "  Day 5\n",
      "  Results Updated [[4], [-1], [5], [-1], [5], [-1], [-1], [-1], [4], [-1], [1], [2], [3], [2], [-1], [-1], [4], [-1], [3], [2], [1], [-1], [-1], [-1], [-1], [-1], [3], [-1], [4], [-1], [-1]]\n",
      "  Day 7\n",
      "  Results Updated [[4], [-1], [5], [-1], [5], [-1], [5], [-1], [4], [-1], [1], [2], [3], [2], [-1], [-1], [4], [-1], [3], [2], [1], [-1], [-1], [-1], [-1], [-1], [3], [-1], [4], [-1], [-1]]\n",
      "  Day 10\n",
      "  Results Updated [[4], [-1], [5], [-1], [5], [-1], [5], [-1], [4], [5], [1], [2], [3], [2], [-1], [-1], [4], [-1], [3], [2], [1], [-1], [-1], [-1], [-1], [-1], [3], [-1], [4], [-1], [-1]]\n",
      "  Day 15\n",
      "  Results Updated [[4], [-1], [5], [-1], [5], [-1], [5], [-1], [4], [5], [1], [2], [3], [2], [5], [-1], [4], [-1], [3], [2], [1], [-1], [-1], [-1], [-1], [-1], [3], [-1], [4], [-1], [-1]]\n",
      "\n",
      "Nurse 6 Ezgi\n",
      "  Day 2\n",
      "  Results Updated [[4], [6], [5], [-1], [5], [-1], [5], [-1], [4], [5], [1], [2], [3], [2], [5], [-1], [4], [-1], [3], [2], [1], [-1], [-1], [-1], [-1], [-1], [3], [-1], [4], [-1], [-1]]\n",
      "  Day 4\n",
      "  Results Updated [[4], [6], [5], [6], [5], [-1], [5], [-1], [4], [5], [1], [2], [3], [2], [5], [-1], [4], [-1], [3], [2], [1], [-1], [-1], [-1], [-1], [-1], [3], [-1], [4], [-1], [-1]]\n",
      "  Day 8\n",
      "  Results Updated [[4], [6], [5], [6], [5], [-1], [5], [6], [4], [5], [1], [2], [3], [2], [5], [-1], [4], [-1], [3], [2], [1], [-1], [-1], [-1], [-1], [-1], [3], [-1], [4], [-1], [-1]]\n",
      "  Day 23\n",
      "  Results Updated [[4], [6], [5], [6], [5], [-1], [5], [6], [4], [5], [1], [2], [3], [2], [5], [-1], [4], [-1], [3], [2], [1], [-1], [6], [-1], [-1], [-1], [3], [-1], [4], [-1], [-1]]\n",
      "  Day 25\n",
      "  Results Updated [[4], [6], [5], [6], [5], [-1], [5], [6], [4], [5], [1], [2], [3], [2], [5], [-1], [4], [-1], [3], [2], [1], [-1], [6], [-1], [6], [-1], [3], [-1], [4], [-1], [-1]]\n",
      "  Day 28\n",
      "  Results Updated [[4], [6], [5], [6], [5], [-1], [5], [6], [4], [5], [1], [2], [3], [2], [5], [-1], [4], [-1], [3], [2], [1], [-1], [6], [-1], [6], [-1], [3], [6], [4], [-1], [-1]]\n",
      "  Day 30\n",
      "  Results Updated [[4], [6], [5], [6], [5], [-1], [5], [6], [4], [5], [1], [2], [3], [2], [5], [-1], [4], [-1], [3], [2], [1], [-1], [6], [-1], [6], [-1], [3], [6], [4], [6], [-1]]\n",
      "\n",
      "Nurse 7 Elif\n",
      "  Day 6\n",
      "  Results Updated [[4], [6], [5], [6], [5], [7], [5], [6], [4], [5], [1], [2], [3], [2], [5], [-1], [4], [-1], [3], [2], [1], [-1], [6], [-1], [6], [-1], [3], [6], [4], [6], [-1]]\n",
      "  Day 16\n",
      "  Results Updated [[4], [6], [5], [6], [5], [7], [5], [6], [4], [5], [1], [2], [3], [2], [5], [7], [4], [-1], [3], [2], [1], [-1], [6], [-1], [6], [-1], [3], [6], [4], [6], [-1]]\n",
      "  Day 18\n",
      "  Results Updated [[4], [6], [5], [6], [5], [7], [5], [6], [4], [5], [1], [2], [3], [2], [5], [7], [4], [7], [3], [2], [1], [-1], [6], [-1], [6], [-1], [3], [6], [4], [6], [-1]]\n",
      "  Day 22\n",
      "  Results Updated [[4], [6], [5], [6], [5], [7], [5], [6], [4], [5], [1], [2], [3], [2], [5], [7], [4], [7], [3], [2], [1], [7], [6], [-1], [6], [-1], [3], [6], [4], [6], [-1]]\n",
      "  Day 24\n",
      "  Results Updated [[4], [6], [5], [6], [5], [7], [5], [6], [4], [5], [1], [2], [3], [2], [5], [7], [4], [7], [3], [2], [1], [7], [6], [7], [6], [-1], [3], [6], [4], [6], [-1]]\n",
      "  Day 26\n",
      "  Results Updated [[4], [6], [5], [6], [5], [7], [5], [6], [4], [5], [1], [2], [3], [2], [5], [7], [4], [7], [3], [2], [1], [7], [6], [7], [6], [7], [3], [6], [4], [6], [-1]]\n",
      "  Day 31\n",
      "  Results Updated [[4], [6], [5], [6], [5], [7], [5], [6], [4], [5], [1], [2], [3], [2], [5], [7], [4], [7], [3], [2], [1], [7], [6], [7], [6], [7], [3], [6], [4], [6], [7]]\n",
      "\n",
      "Maximum of objective function: -45.0\n",
      "\n"
     ]
    },
    {
     "data": {
      "text/plain": [
       "[[[4],\n",
       "  [6],\n",
       "  [5],\n",
       "  [6],\n",
       "  [5],\n",
       "  [7],\n",
       "  [5],\n",
       "  [6],\n",
       "  [4],\n",
       "  [5],\n",
       "  [1],\n",
       "  [2],\n",
       "  [3],\n",
       "  [2],\n",
       "  [5],\n",
       "  [7],\n",
       "  [4],\n",
       "  [7],\n",
       "  [3],\n",
       "  [2],\n",
       "  [1],\n",
       "  [7],\n",
       "  [6],\n",
       "  [7],\n",
       "  [6],\n",
       "  [7],\n",
       "  [3],\n",
       "  [6],\n",
       "  [4],\n",
       "  [6],\n",
       "  [7]],\n",
       " [[-1],\n",
       "  [-1],\n",
       "  [-1],\n",
       "  [-1],\n",
       "  [-1],\n",
       "  [-1],\n",
       "  [-1],\n",
       "  [-1],\n",
       "  [-1],\n",
       "  [-1],\n",
       "  [-1],\n",
       "  [-1],\n",
       "  [-1],\n",
       "  [-1],\n",
       "  [-1],\n",
       "  [-1],\n",
       "  [-1],\n",
       "  [-1],\n",
       "  [-1],\n",
       "  [-1],\n",
       "  [-1],\n",
       "  [-1],\n",
       "  [-1],\n",
       "  [-1],\n",
       "  [-1],\n",
       "  [-1],\n",
       "  [-1],\n",
       "  [-1],\n",
       "  [-1],\n",
       "  [-1],\n",
       "  [-1]],\n",
       " [[-1],\n",
       "  [-1],\n",
       "  [-1],\n",
       "  [-1],\n",
       "  [-1],\n",
       "  [-1],\n",
       "  [-1],\n",
       "  [-1],\n",
       "  [-1],\n",
       "  [-1],\n",
       "  [-1],\n",
       "  [-1],\n",
       "  [-1],\n",
       "  [-1],\n",
       "  [-1],\n",
       "  [-1],\n",
       "  [-1],\n",
       "  [-1],\n",
       "  [-1],\n",
       "  [-1],\n",
       "  [-1],\n",
       "  [-1],\n",
       "  [-1],\n",
       "  [-1],\n",
       "  [-1],\n",
       "  [-1],\n",
       "  [-1],\n",
       "  [-1],\n",
       "  [-1],\n",
       "  [-1],\n",
       "  [-1]],\n",
       " [[-1],\n",
       "  [-1],\n",
       "  [-1],\n",
       "  [-1],\n",
       "  [-1],\n",
       "  [-1],\n",
       "  [-1],\n",
       "  [-1],\n",
       "  [-1],\n",
       "  [-1],\n",
       "  [-1],\n",
       "  [-1],\n",
       "  [-1],\n",
       "  [-1],\n",
       "  [-1],\n",
       "  [-1],\n",
       "  [-1],\n",
       "  [-1],\n",
       "  [-1],\n",
       "  [-1],\n",
       "  [-1],\n",
       "  [-1],\n",
       "  [-1],\n",
       "  [-1],\n",
       "  [-1],\n",
       "  [-1],\n",
       "  [-1],\n",
       "  [-1],\n",
       "  [-1],\n",
       "  [-1],\n",
       "  [-1]]]"
      ]
     },
     "execution_count": 109,
     "metadata": {},
     "output_type": "execute_result"
    }
   ],
   "source": [
    "shiftOptimizer(doctor_list,thisMonth)"
   ]
  }
 ],
 "metadata": {
  "kernelspec": {
   "display_name": "env_01",
   "language": "python",
   "name": "env_01"
  },
  "language_info": {
   "codemirror_mode": {
    "name": "ipython",
    "version": 3
   },
   "file_extension": ".py",
   "mimetype": "text/x-python",
   "name": "python",
   "nbconvert_exporter": "python",
   "pygments_lexer": "ipython3",
   "version": "3.9.7"
  }
 },
 "nbformat": 4,
 "nbformat_minor": 5
}
