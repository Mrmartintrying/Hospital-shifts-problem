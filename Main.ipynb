{
 "cells": [
  {
   "cell_type": "code",
   "execution_count": 291,
   "id": "95e9850c",
   "metadata": {},
   "outputs": [],
   "source": [
    "import gspread\n",
    "import time\n",
    "from oauth2client.service_account import ServiceAccountCredentials\n",
    "from pprint import pprint\n",
    "from calendar import monthrange\n",
    "import datetime"
   ]
  },
  {
   "cell_type": "code",
   "execution_count": 292,
   "id": "f88013ae",
   "metadata": {},
   "outputs": [],
   "source": [
    "class doctor(object):\n",
    "    name = \"\"\n",
    "    rank = 0\n",
    "    adjusted_rank = 0\n",
    "    shift = False\n",
    "    nb_of_shifts = 0\n",
    "    weekend = False\n",
    "    nb_of_weekends = 0\n",
    "    days_off = [0, 0, 0, 0, 0, 0, 0, 0, 0, 0, 0, 0, 0, 0, 0, 0, 0, 0, 0, 0, 0, 0, 0, 0, 0, 0, 0, 0, 0, 0, 0]\n",
    "    nb_days_off = 0\n",
    "    #inme calendar eklenicek\n",
    "    manual_shifts = [0, 0, 0, 0, 0, 0, 0, 0, 0, 0, 0, 0, 0, 0, 0, 0, 0, 0, 0, 0, 0, 0, 0, 0, 0, 0, 0, 0, 0, 0, 0]\n",
    "    wanted_days = [0, 0, 0, 0, 0, 0, 0, 0, 0, 0, 0, 0, 0, 0, 0, 0, 0, 0, 0, 0, 0, 0, 0, 0, 0, 0, 0, 0, 0, 0, 0]\n",
    "    unwanted_days = [0, 0, 0, 0, 0, 0, 0, 0, 0, 0, 0, 0, 0, 0, 0, 0, 0, 0, 0, 0, 0, 0, 0, 0, 0, 0, 0, 0, 0, 0, 0]\n",
    "    shift_calendar = [0, 0, 0, 0, 0, 0, 0, 0, 0, 0, 0, 0, 0, 0, 0, 0, 0, 0, 0, 0, 0, 0, 0, 0, 0, 0, 0, 0, 0, 0, 0]\n",
    "    \n",
    "    # The class \"constructor\" - It's actually an initializer \n",
    "    def __init__(self, name, rank, adjusted_rank, shift, nb_of_shifts, weekend, nb_of_weekends, days_off, nb_days_off, manual_shifts, wanted_days, unwanted_days, shift_calendar):\n",
    "        self.name = name\n",
    "        self.rank = rank\n",
    "        self.adjusted_rank = adjusted_rank\n",
    "        self.shift = shift\n",
    "        self.nb_of_shifts = nb_of_shifts\n",
    "        self.weekend = weekend\n",
    "        self.nb_of_weekends = nb_of_weekends\n",
    "        self.days_off = days_off\n",
    "        self.nb_days_off = nb_days_off\n",
    "        self.manual_shifts = manual_shifts\n",
    "        self.wanted_days = wanted_days \n",
    "        self.unwanted_days = unwanted_days\n",
    "        self.shift_calendar = shift_calendar"
   ]
  },
  {
   "cell_type": "code",
   "execution_count": 293,
   "id": "66b60a1a",
   "metadata": {},
   "outputs": [],
   "source": [
    "class Month:\n",
    "\n",
    "    def __init__(self, days=31, weekend=[0]*31, special_shift=[0]*31, doctor_shift=[\"\"]*31):\n",
    "        self.days = days\n",
    "        self.weekend = weekend\n",
    "        self.special_shift = special_shift\n",
    "        self.doctor_shift=doctor_shift"
   ]
  },
  {
   "cell_type": "code",
   "execution_count": 294,
   "id": "0ae58595",
   "metadata": {},
   "outputs": [],
   "source": [
    "def GetNurseInfo(nobetci_sayisi, doctor_list):\n",
    "    \n",
    "    num_days = int(sheet_tarih.cell(9,2).value)+int(sheet_tarih.cell(10,2).value)\n",
    "    print(\"Number of days : \" + str(num_days))\n",
    "    total_rank = 0\n",
    "    col = []\n",
    "    \n",
    "    name = \"\"\n",
    "    rank = 0\n",
    "    adjusted_rank = 0\n",
    "    shift = False\n",
    "    nb_of_shifts = 0\n",
    "    weekend = False\n",
    "    nb_of_weekends = 0\n",
    "    nb_days_off = 0\n",
    "    \n",
    "    num_shifts = 1 #number of shifts per day\n",
    "    total_shift_rounded = 0\n",
    "    \n",
    "    for n in range(nobetci_sayisi):\n",
    "        days_off = []\n",
    "        manual_shifts = []\n",
    "        wanted_days = []\n",
    "        unwanted_days = []\n",
    "        shift_calendar = [0, 0, 0, 0, 0, 0, 0, 0, 0, 0, 0, 0, 0, 0, 0, 0, 0, 0, 0, 0, 0, 0, 0, 0, 0, 0, 0, 0, 0, 0, 0]\n",
    "        col.append(sheet_takvim_input.col_values(n+4))\n",
    "        name = col[n][1]\n",
    "        rank = col[n][2]\n",
    "        shift = col[n][3]\n",
    "        weekend =col[n][4]\n",
    "        nb_days_off = col[n][37]\n",
    "        adjusted_rank = int(rank)*(num_days-int(nb_days_off))/num_days\n",
    "        \n",
    "       \n",
    "        if shift == \"Evet\":\n",
    "            shift = True\n",
    "        else:\n",
    "            shift = False\n",
    "               \n",
    "        if weekend == \"Evet\":\n",
    "            weekend = True\n",
    "        else:\n",
    "            weekend = False\n",
    "                        \n",
    "        for l in range(num_days):\n",
    "            if col[n][5+l] == \"Izinli\":\n",
    "                days_off.append(1)\n",
    "                manual_shifts.append(0)\n",
    "                wanted_days.append(0)\n",
    "                unwanted_days.append(0)\n",
    "            elif col[n][5+l] == \"Nöbet\":\n",
    "                days_off.append(0)\n",
    "                manual_shifts.append(1)\n",
    "                wanted_days.append(0)\n",
    "                unwanted_days.append(0)\n",
    "            elif col[n][5+l] == \"Tercih\":\n",
    "                days_off.append(0)\n",
    "                manual_shifts.append(0)\n",
    "                wanted_days.append(1)\n",
    "                unwanted_days.append(0)\n",
    "            elif col[n][5+l] == \"Istemiyor\":\n",
    "                days_off.append(0)\n",
    "                manual_shifts.append(0)\n",
    "                wanted_days.append(0)\n",
    "                unwanted_days.append(1)\n",
    "            elif col[n][5+l] == \"-\":\n",
    "                days_off.append(0)\n",
    "                manual_shifts.append(0)\n",
    "                wanted_days.append(0)\n",
    "                unwanted_days.append(0)\n",
    " \n",
    "        doctor_list.append(doctor(name, rank, adjusted_rank, shift, nb_of_shifts, weekend, nb_of_weekends, days_off, nb_days_off, manual_shifts, wanted_days, unwanted_days, shift_calendar))\n",
    "  \n",
    "    for v in range(nobetci_sayisi):\n",
    "        total_rank = total_rank + doctor_list[v].adjusted_rank\n",
    "        \n",
    "    total_rank = round(total_rank)\n",
    "    \n",
    "    number_of_credits = int(sheet_tarih.cell(14,3).value)\n",
    "    number_of_weekends = int(sheet_tarih.cell(10,2).value)\n",
    "    \n",
    "    for n in range(nobetci_sayisi):\n",
    "        doctor_list[n].nb_of_shifts = round((num_shifts*num_days/total_rank)*doctor_list[n].adjusted_rank)        \n",
    "        total_shift_rounded = total_shift_rounded + doctor_list[n].nb_of_shifts\n",
    "        \n",
    "        #print(\"Name : \" + doctor_list[n].name)\n",
    "        #print(\"Shift numbers : \" + str(doctor_list[n].nb_of_shifts))\n",
    "\n",
    "    \n",
    "    shift_difference = num_shifts*num_days - total_shift_rounded\n",
    "    \n",
    "    print(\"Total shifts rounded : \" + str(total_shift_rounded))\n",
    "    \n",
    "    \n",
    "    if shift_difference > 0:\n",
    "        print(\"Shift difference positive : \" + str(shift_difference))\n",
    "        distribution_counter = shift_difference\n",
    "        print(\"Distribution counter = \" + str(distribution_counter))\n",
    "        j = 1\n",
    "        while distribution_counter > 0:\n",
    "            print(\"Actual shifts for doctor\" + str(nobetci_sayisi) +\" : \" + str(doctor_list[nobetci_sayisi-j].nb_of_shifts))\n",
    "            print(\"Looking at Doctor \" + str(nobetci_sayisi-j+1))\n",
    "            doctor_list[nobetci_sayisi-j].nb_of_shifts = doctor_list[nobetci_sayisi-j].nb_of_shifts + 1\n",
    "            print(\"New shift number for doctor \" + str(nobetci_sayisi-j+1) + \" : \" + str(doctor_list[nobetci_sayisi-j].nb_of_shifts))\n",
    "            distribution_counter = distribution_counter - 1\n",
    "            j = j+1    \n",
    "    \n",
    "    \n",
    "    elif shift_difference < 0:\n",
    "        print(\"Shift difference negative : \" + str(shift_difference))\n",
    "        distribution_counter = shift_difference\n",
    "        print(\"Distribution counter = \" + str(distribution_counter))\n",
    "        k = 0\n",
    "        while distribution_counter < 0:\n",
    "            print(\"Actual shifts for doctor\" + str(k+1) +\" : \" + str(doctor_list[k].nb_of_shifts))\n",
    "            if doctor_list[k].nb_of_shifts > 0: \n",
    "                print(\"Looking at Doctor \" + str(k+1))\n",
    "                doctor_list[k].nb_of_shifts = doctor_list[k].nb_of_shifts - 1\n",
    "                print(\"New shift number for doctor \" + str(k+1) + \" : \" + str(doctor_list[k].nb_of_shifts))\n",
    "                distribution_counter = distribution_counter + 1\n",
    "            k = k+1\n",
    "            \n",
    "    return doctor_list\n"
   ]
  },
  {
   "cell_type": "code",
   "execution_count": 305,
   "id": "538eef12-f0b2-461d-aa2f-78f9b6ad4f41",
   "metadata": {},
   "outputs": [],
   "source": [
    "#create a function to inject doctors shifts to the month object doctor_shift attribute \n",
    "def InjectShifts(doctor_list, thisMonth):\n",
    "    numDoctors = len(doctor_list)\n",
    "    print(thisMonth.days)\n",
    "        \n",
    "    for n in range(numDoctors):\n",
    "        #print(\"Doctor \" + str(doctor_list[n].name) )\n",
    "        for m in range(thisMonth.days-1):\n",
    "            #print(\"Day number \" + str(m+1) )\n",
    "            if doctor_list[n].manual_shifts[m] == 1:\n",
    "                thisMonth.doctor_shift[m] = doctor_list[n].name\n",
    "    return thisMonth"
   ]
  },
  {
   "cell_type": "code",
   "execution_count": 296,
   "id": "1329530d-994a-4221-a976-84a178e90f8f",
   "metadata": {},
   "outputs": [],
   "source": [
    "scope = [\"https://spreadsheets.google.com/feeds\",'https://www.googleapis.com/auth/spreadsheets',\"https://www.googleapis.com/auth/drive.file\",\"https://www.googleapis.com/auth/drive\"]\n",
    "\n",
    "credentials = ServiceAccountCredentials.from_json_keyfile_name(\"credentials.json\", scope)\n",
    "client = gspread.authorize(credentials)\n",
    "\n",
    "sheet_tarih = client.open(\"Shift_optimization\").worksheet('1. Tarih')\n",
    "sheet_takvim_input = client.open(\"Shift_optimization\").worksheet('2. Takvim')\n",
    "sheet_birim_dagilimi = client.open(\"Shift_optimization\").worksheet('3. Birim dagilimi')\n",
    "sheet_takvim_output = client.open(\"Shift_optimization\").worksheet('4. Takvim output')\n",
    "\n",
    "sheet_tarih_data = sheet_tarih.get_all_records()\n",
    "sheet_takvim_input_data = sheet_takvim_input.get_all_records()\n",
    "sheet_birim_dagilimi_data = sheet_birim_dagilimi.get_all_records()\n",
    "sheet_takvim_output_data = sheet_takvim_output.get_all_records()\n",
    "\n",
    "\n",
    "nobetci_sayisi = int(sheet_birim_dagilimi.cell(1,2).value)  \n"
   ]
  },
  {
   "cell_type": "code",
   "execution_count": 297,
   "id": "4a2659b9-f297-48dc-b6f0-959db9c01334",
   "metadata": {},
   "outputs": [
    {
     "name": "stdout",
     "output_type": "stream",
     "text": [
      "Number of days : 28\n",
      "Total shifts rounded : 28\n",
      "8\n"
     ]
    }
   ],
   "source": [
    "#Calculate shift distribution\n",
    "doctor_list = []\n",
    "doctor_list = GetNurseInfo(nobetci_sayisi, doctor_list)\n",
    "print(len(doctor_list))"
   ]
  },
  {
   "cell_type": "code",
   "execution_count": 298,
   "id": "8d7e3c99-b1e8-4eee-9352-21777fd7924b",
   "metadata": {},
   "outputs": [],
   "source": [
    "#pprint(sheet_takvim_input_data)"
   ]
  },
  {
   "cell_type": "code",
   "execution_count": null,
   "id": "34192c27-8729-47f4-88da-91ac72390b48",
   "metadata": {},
   "outputs": [],
   "source": [
    "#print all details for each doctor\n",
    "for n in range(nobetci_sayisi):\n",
    "    print(\"------ Doctor number \" + str(n+1) + \" ------\")\n",
    "    print(\"Name : \" + doctor_list[n].name)\n",
    "    print(\"Rank : \" + doctor_list[n].rank)\n",
    "    print(\"Adjusted rank : \"+ str(doctor_list[n].adjusted_rank))\n",
    "    print(\"Does shifts ? \" + str(doctor_list[n].shift))\n",
    "    print(\"Number of shifts : \" + str(doctor_list[n].nb_of_shifts))\n",
    "    print(\"Does weekends ? \" + str(doctor_list[n].weekend))\n",
    "    print(\"Days off : \" + str(doctor_list[n].days_off))\n",
    "    print(\"Total days off : \" + str(doctor_list[n].nb_days_off))\n",
    "    print(\"Manually appointed shifts : \" + str(doctor_list[n].manual_shifts))\n",
    "    print(\"Wanted shift days : \" + str(doctor_list[n].wanted_days))\n",
    "    print(\"Unwanted shift days : \" + str(doctor_list[n].unwanted_days))\n",
    "    print(\"Shift calendar : \" + str(doctor_list[n].shift_calendar))"
   ]
  },
  {
   "cell_type": "code",
   "execution_count": 300,
   "id": "0ed228ce-24d0-4346-b4c5-a3dbc077e294",
   "metadata": {},
   "outputs": [
    {
     "data": {
      "text/plain": [
       "{'spreadsheetId': '1bdXz3_N18NCq1F3Zk1kiqDSAH_-dRc87yXG5IZCFtLc',\n",
       " 'updatedRange': \"'3. Birim dagilimi'!B9:B16\",\n",
       " 'updatedRows': 8,\n",
       " 'updatedColumns': 1,\n",
       " 'updatedCells': 8}"
      ]
     },
     "execution_count": 300,
     "metadata": {},
     "output_type": "execute_result"
    }
   ],
   "source": [
    "#insert values to excel tab \"3. Birim Dagilimi\"\n",
    "\n",
    "nameRange = \"A9:A\" + str(nobetci_sayisi+8)\n",
    "shiftRange = \"B9:B\" + str(nobetci_sayisi+8)\n",
    "\n",
    "cellList = sheet_birim_dagilimi.range(nameRange)\n",
    "for cell in cellList:\n",
    "    cell.value = doctor_list[cell.row-9].name\n",
    "sheet_birim_dagilimi.update_cells(cellList)\n",
    "\n",
    "shiftCellList = sheet_birim_dagilimi.range(shiftRange)\n",
    "for cell in shiftCellList:\n",
    "    cell.value = doctor_list[cell.row-9].nb_of_shifts\n",
    "sheet_birim_dagilimi.update_cells(shiftCellList)\n",
    "    "
   ]
  },
  {
   "cell_type": "code",
   "execution_count": 301,
   "id": "a7d97b77-f282-4eb5-a306-5a47ce88e1eb",
   "metadata": {},
   "outputs": [],
   "source": [
    "#Get month and year of shift period and create month object with correct weekends, holidays, special shifts.\n",
    "year = int(sheet_tarih.cell(4,6).value)\n",
    "month = int(sheet_tarih.cell(3,6).value)\n",
    "\n",
    "holidays = sheet_takvim_input.col_values(2)\n",
    "specialDays = sheet_takvim_input.col_values(3)\n",
    "firstDay, totalDays = monthrange(year, month)\n",
    "weekends = []\n",
    "special_shifts = []\n",
    "shifts = [\"\"]*31\n",
    "for n in range(totalDays):\n",
    "    dayofmonth = datetime.date(year,month,n+1).weekday()\n",
    "    if dayofmonth == 5 or dayofmonth == 6 or holidays[n+5] == \"TRUE\":\n",
    "        weekends.append(1)\n",
    "    else:\n",
    "        weekends.append(0)\n",
    "        \n",
    "    if specialDays[n+5] == \"TRUE\":\n",
    "        special_shifts.append(1)\n",
    "    else:\n",
    "        special_shifts.append(0)\n",
    "\n",
    "thisMonth = Month(totalDays, weekends, special_shifts, shifts)\n",
    "#print(\"Total number of days in this month is  -->  \" + str(thisMonth.days))\n",
    "#print(\"Weekends/holidays in this month is  -->  \" + str(thisMonth.weekend))\n",
    "#print(\"Special days in this month is  -->  \" + str(thisMonth.special_shift))"
   ]
  },
  {
   "cell_type": "code",
   "execution_count": 306,
   "id": "285ec48e-049c-4be7-89b7-46532d825f04",
   "metadata": {},
   "outputs": [
    {
     "name": "stdout",
     "output_type": "stream",
     "text": [
      "28\n",
      "28\n",
      "['Dinç', 'Mert', '', 'Mert', 'Ceren', 'Ali', 'Hüseyin', 'Emre', 'Ezgi', 'Elif', 'Hüseyin', 'Ezgi', '', 'Emre', 'Ezgi', 'Elif', '', '', '', '', '', '', '', '', '', '', '', '', '', '', '']\n"
     ]
    }
   ],
   "source": [
    "#Call InjectShifts to put manual shifts of doctors into thisMonth object's calendar\n",
    "\n",
    "thisMonth = InjectShifts(doctor_list, thisMonth)\n",
    "print(thisMonth.days)\n",
    "print(thisMonth.doctor_shift)\n",
    "\n",
    "\n",
    "#print(thisMonth.doctor_shift)"
   ]
  },
  {
   "cell_type": "code",
   "execution_count": 304,
   "id": "3ec30d39-2582-4dbc-86aa-015623880d3d",
   "metadata": {},
   "outputs": [
    {
     "data": {
      "text/plain": [
       "{'spreadsheetId': '1bdXz3_N18NCq1F3Zk1kiqDSAH_-dRc87yXG5IZCFtLc',\n",
       " 'updatedRange': \"'4. Takvim output'!B3:H26\",\n",
       " 'updatedRows': 24,\n",
       " 'updatedColumns': 7,\n",
       " 'updatedCells': 168}"
      ]
     },
     "execution_count": 304,
     "metadata": {},
     "output_type": "execute_result"
    }
   ],
   "source": [
    "#Print this month's calendar shifts on Google Sheets last tab : \"4. Takvim output\"\n",
    "\n",
    "cells = sheet_takvim_output.range(\"B3:H26\")\n",
    "\n",
    "sheet_calendar_calculation = client.open(\"Shift_optimization\").worksheet('calendar-calculation')\n",
    "calculationCells = sheet_calendar_calculation.range(\"B3:H26\")\n",
    "nameRange = 0\n",
    "\n",
    "for n in range(len(calculationCells)):\n",
    "    cells[n].value = calculationCells[n].value\n",
    "\n",
    "for n in range(len(cells)):\n",
    "    #print(\"Looking at position number \" + str(n) + \" - Cell value : \" + str(cells[n].value))\n",
    "    if cells[n].value.isnumeric():        \n",
    "        #print(cells[n].value)\n",
    "        cells[n+7].value = thisMonth.doctor_shift[nameRange]\n",
    "        nameRange = nameRange + 1\n",
    "        \n",
    "sheet_takvim_output.update_cells(cells)\n",
    "        \n"
   ]
  },
  {
   "cell_type": "markdown",
   "id": "38efb716",
   "metadata": {},
   "source": [
    "# CP Model"
   ]
  },
  {
   "cell_type": "markdown",
   "id": "5e39e854",
   "metadata": {},
   "source": [
    "<div class=\"alert alert-block alert-danger\">\n",
    "<b>Buraya Dikkat:</b> Buradan sonrasi Mert'in kodu; degisiklik yaparken conflict olmamasina dikkat edelim.\n",
    "</div>"
   ]
  },
  {
   "cell_type": "code",
   "execution_count": null,
   "id": "9824ff7e",
   "metadata": {},
   "outputs": [],
   "source": [
    "from ortools.sat.python import cp_model"
   ]
  },
  {
   "cell_type": "code",
   "execution_count": null,
   "id": "d9fe7c8c",
   "metadata": {},
   "outputs": [],
   "source": [
    "golden_copy_doctors = doctor_list"
   ]
  },
  {
   "cell_type": "code",
   "execution_count": null,
   "id": "318af7ae",
   "metadata": {},
   "outputs": [],
   "source": [
    "num_nurses = len(doctor_list)\n",
    "num_days = thisMonth.days\n",
    "num_shifts = 1\n",
    "\n",
    "all_nurses = range(num_nurses)\n",
    "print(\"Doctors: \" + str(num_nurses))\n",
    "all_days = range(num_days)\n",
    "print(\"Days: \" + str(num_days))\n",
    "all_shifts = range(num_shifts)\n",
    "print(\"Days: \" + str(num_shifts))"
   ]
  },
  {
   "cell_type": "markdown",
   "id": "d59b7355",
   "metadata": {},
   "source": [
    "Initialize Model and variables"
   ]
  },
  {
   "cell_type": "code",
   "execution_count": null,
   "id": "cd2790e5",
   "metadata": {},
   "outputs": [],
   "source": [
    "# Create the model\n",
    "model = cp_model.CpModel()\n",
    "\n",
    "# Creates shift variables.\n",
    "# shifts[(n, d)]: nurse 'n' works on day 'd'.\n",
    "shifts = {}\n",
    "for n in all_nurses:\n",
    "    for d in all_days:\n",
    "        for s in all_shifts:\n",
    "            shifts[(n, d, s)] = model.NewBoolVar('shift_n%id%is%i' % (n, d, s))\n",
    "print(len(shifts))"
   ]
  },
  {
   "cell_type": "markdown",
   "id": "3955fd2f",
   "metadata": {},
   "source": [
    "# Contraints"
   ]
  },
  {
   "cell_type": "markdown",
   "id": "e3517edd",
   "metadata": {},
   "source": [
    "## 1. Hard Contraints"
   ]
  },
  {
   "cell_type": "markdown",
   "id": "29c89ca7",
   "metadata": {},
   "source": [
    "#### 0. Set number of shifts for each doctor"
   ]
  },
  {
   "cell_type": "code",
   "execution_count": null,
   "id": "e538b9b7",
   "metadata": {},
   "outputs": [],
   "source": [
    "for n in all_nurses:\n",
    "    if doctor_list[n].nb_of_shifts >= 1:\n",
    "        model.Add(sum(shifts[(n, d, s)] for d in all_days for s in all_shifts) <= doctor_list[n].nb_of_shifts)"
   ]
  },
  {
   "cell_type": "markdown",
   "id": "275ebaa9",
   "metadata": {},
   "source": [
    "#### 1.a Assign one docter per shift"
   ]
  },
  {
   "cell_type": "code",
   "execution_count": null,
   "id": "0f8a938d",
   "metadata": {},
   "outputs": [],
   "source": [
    "for d in all_days:\n",
    "    for s in all_shifts:\n",
    "        model.Add(sum(shifts[(n, d, s)] for n in all_nurses) == 1)"
   ]
  },
  {
   "cell_type": "code",
   "execution_count": null,
   "id": "9f102547",
   "metadata": {},
   "outputs": [],
   "source": []
  },
  {
   "cell_type": "code",
   "execution_count": null,
   "id": "112e8683",
   "metadata": {},
   "outputs": [],
   "source": [
    "# Each nurse works at most one shift per day.\n",
    "for n in all_nurses:\n",
    "    for d in all_days:\n",
    "        model.Add(sum(shifts[(n, d, s)] for s in all_shifts) <= 1)"
   ]
  },
  {
   "cell_type": "markdown",
   "id": "5b352471",
   "metadata": {},
   "source": [
    "#### 1.b No shift on off days"
   ]
  },
  {
   "cell_type": "code",
   "execution_count": null,
   "id": "aeca3942",
   "metadata": {},
   "outputs": [],
   "source": [
    "# No shift on off days .\n",
    "for n in all_nurses:\n",
    "    for d in all_days:\n",
    "        model.Add(sum(shifts[(n, d,s)] for s in all_shifts)+doctor_list[n].days_off[d] <= 1)"
   ]
  },
  {
   "cell_type": "markdown",
   "id": "8e94d69f",
   "metadata": {},
   "source": [
    "Testing the condition"
   ]
  },
  {
   "cell_type": "code",
   "execution_count": null,
   "id": "2e64ba7d",
   "metadata": {},
   "outputs": [],
   "source": [
    "# doctor_list[1].days_off = [1]*31"
   ]
  },
  {
   "cell_type": "markdown",
   "id": "7a881c71",
   "metadata": {},
   "source": [
    "#### 1.c No consequtive shifts"
   ]
  },
  {
   "cell_type": "code",
   "execution_count": null,
   "id": "60d35681",
   "metadata": {},
   "outputs": [],
   "source": [
    "# No consecutive shifts .\n",
    "for n in all_nurses:\n",
    "    for d in all_days[1:]:\n",
    "        model.Add(sum(shifts[(n, d-1, s)] for s in all_shifts)+sum(shifts[(n, d, s)] for s in all_shifts) <= 1)"
   ]
  },
  {
   "cell_type": "code",
   "execution_count": null,
   "id": "4984b451",
   "metadata": {},
   "outputs": [],
   "source": []
  },
  {
   "cell_type": "code",
   "execution_count": null,
   "id": "a9e94ee0",
   "metadata": {},
   "outputs": [],
   "source": []
  },
  {
   "cell_type": "markdown",
   "id": "054b72f0",
   "metadata": {},
   "source": [
    "## Soft Contraints"
   ]
  },
  {
   "cell_type": "code",
   "execution_count": null,
   "id": "ca17997e",
   "metadata": {},
   "outputs": [],
   "source": []
  },
  {
   "cell_type": "markdown",
   "id": "f0572db1",
   "metadata": {},
   "source": [
    "# Execute Solver"
   ]
  },
  {
   "cell_type": "code",
   "execution_count": null,
   "id": "d80beff9",
   "metadata": {},
   "outputs": [],
   "source": [
    "# Creates the solver and solve.\n",
    "solver = cp_model.CpSolver()\n",
    "status = solver.Solve(model)\n",
    "\n",
    "if status == cp_model.OPTIMAL:\n",
    "    print('Solution:')\n",
    "    \n",
    "    for n in all_nurses:\n",
    "        print('Nurse', n, doctor_list[n].name)\n",
    "        for d in all_days:\n",
    "            for s in all_shifts:\n",
    "                if solver.Value(shifts[(n, d, s)]) == 1:\n",
    "                # Need to update doctor_list[n].shift_calendar[d] = 1\n",
    "                    print('  Day', d)\n",
    "        print()\n",
    "else:\n",
    "    print('No optimal solution found !')"
   ]
  },
  {
   "cell_type": "code",
   "execution_count": null,
   "id": "148a6636",
   "metadata": {},
   "outputs": [],
   "source": []
  }
 ],
 "metadata": {
  "kernelspec": {
   "display_name": "Python 3",
   "language": "python",
   "name": "python3"
  },
  "language_info": {
   "codemirror_mode": {
    "name": "ipython",
    "version": 3
   },
   "file_extension": ".py",
   "mimetype": "text/x-python",
   "name": "python",
   "nbconvert_exporter": "python",
   "pygments_lexer": "ipython3",
   "version": "3.8.8"
  }
 },
 "nbformat": 4,
 "nbformat_minor": 5
}
